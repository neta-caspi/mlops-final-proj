{
  "nbformat": 4,
  "nbformat_minor": 0,
  "metadata": {
    "colab": {
      "name": "predicting-german-credit.ipynb",
      "provenance": [],
      "collapsed_sections": [],
      "toc_visible": true
    },
    "kernelspec": {
      "display_name": "Python 3",
      "language": "python",
      "name": "python3"
    },
    "language_info": {
      "name": "python",
      "version": "3.6.6",
      "mimetype": "text/x-python",
      "codemirror_mode": {
        "name": "ipython",
        "version": 3
      },
      "pygments_lexer": "ipython3",
      "nbconvert_exporter": "python",
      "file_extension": ".py"
    }
  },
  "cells": [
    {
      "cell_type": "markdown",
      "metadata": {
        "id": "uOcS5s3VZKFq",
        "_uuid": "6f9d55e2cd5792dc66d332ef3ccafde266046ce4"
      },
      "source": [
        "The German Credit data set is a publically available data set downloaded from the UCI Machine Learning Repository. The data contains data on 20 variables and the classification whether an applicant is considered a Good or a Bad credit risk for 1000 loan applicants.\n",
        "\n",
        "### [Data Source](https://archive.ics.uci.edu/ml/datasets/statlog+(german+credit+data))\n",
        "- Professor Dr. Hans Hofmann  \n",
        "- Institut f\"ur Statistik und \"Okonometrie  \n",
        "- Universit\"at Hamburg  \n",
        "- FB Wirtschaftswissenschaften  \n",
        "- Von-Melle-Park 5    \n",
        "- 2000 Hamburg 13\n",
        "\n",
        "### Benchmark\n",
        "![Credit Risk Classification: Faster Machine Learning with Intel Optimized Packages](https://i.imgur.com/nL1l7WI.png)\n",
        "\n",
        "according to [1] the best model is Random Forest with balanced feature selection data. it's has Accuracy 82%, Precision 84%, Recall 82% and F1-Score 81%. \n",
        "\n",
        "<br>\n",
        "\n",
        "\n",
        "The goal of this kernel is to beat The benchmark with  :\n",
        "- Convert dataset to Machine Learning friendly (Feature Engginering)\n",
        "- Develop XGBoost model to predict whether a loan is a good or bad risk.\n",
        "- Find the Best parameter for XGBoost Model (Hyperparameter Tunning)\n",
        "- Beat the Benchmark"
      ]
    },
    {
      "cell_type": "markdown",
      "metadata": {
        "id": "kqRSZpTCfG10",
        "_uuid": "63a5648103f48c821752a5b1f403dfb477159180"
      },
      "source": [
        "# Table of Content\n",
        "\n",
        "##1. Introduction\n",
        "  - Import Library\n",
        "  - Evaluation Function\n",
        "  - XGBoost Model\n",
        "\n",
        "##2. Preprocess\n",
        "  - Importing Dataset\n",
        "  - StandardScaler\n",
        "  - Encoding Categorical Feature\n",
        "  - Concate Transformed Dataset\n",
        "  - Split Training Dataset\n",
        "  - XGBoost  1b: Unbalance Dataset (ROC_AUC:0.79)"
      ]
    },
    {
      "cell_type": "markdown",
      "metadata": {
        "id": "BwWgAWVLC2Ln",
        "_uuid": "afe3100b12ba5779b15f698a1975eaab170742c4"
      },
      "source": [
        "<a id=\"Introduction\"></a> <br>\n",
        "# **1. Introduction:** \n",
        "- Import Library\n",
        "- Evaluation Function\n",
        "- XGBoost Model"
      ]
    },
    {
      "cell_type": "markdown",
      "metadata": {
        "id": "oZH67UWnA915",
        "_uuid": "86c6a56e4b0988d902401370b957f63f4f2754f1"
      },
      "source": [
        "### Import Library"
      ]
    },
    {
      "cell_type": "code",
      "metadata": {
        "id": "UQUQbCn-LIjR",
        "_uuid": "fa1b3ac82eb8fe1b02d69fab3a10b621f1392484",
        "collapsed": true,
        "jupyter": {
          "outputs_hidden": true
        },
        "trusted": true
      },
      "source": [
        "#Importing necessary packages in Python \n",
        "%matplotlib inline \n",
        "import matplotlib.pyplot as plt \n",
        "\n",
        "import numpy as np ; np.random.seed(sum(map(ord, \"aesthetics\")))\n",
        "import pandas as pd\n",
        "\n",
        "from sklearn.datasets import make_classification \n",
        "\n",
        "### module moved...\n",
        "### from sklearn.learning_curve import learning_curve\n",
        "from sklearn.model_selection import learning_curve \n",
        "###\n",
        "\n",
        "#from sklearn.cross_validation import train_test_split \n",
        "#from sklearn.grid_search import GridSearchCV\n",
        "#from sklearn.cross_validation import ShuffleSplit\n",
        "from sklearn.metrics import classification_report,confusion_matrix, roc_curve, roc_auc_score, auc, accuracy_score\n",
        "from sklearn.model_selection import ShuffleSplit,train_test_split, cross_val_score, GridSearchCV\n",
        "from sklearn.preprocessing import OneHotEncoder, LabelEncoder, label_binarize, StandardScaler, MinMaxScaler\n",
        "\n",
        "import seaborn \n",
        "seaborn.set_context('notebook') \n",
        "seaborn.set_style(style='darkgrid')\n",
        "\n",
        "from pprint import pprint \n",
        "\n",
        "import requests"
      ],
      "execution_count": 29,
      "outputs": []
    },
    {
      "cell_type": "markdown",
      "metadata": {
        "id": "HvfBj0KiBC1m",
        "_uuid": "e53977fea8ba2969bb815820b810ae0798f79ff3"
      },
      "source": [
        "### Evaluation Function\n"
      ]
    },
    {
      "cell_type": "code",
      "metadata": {
        "id": "Y5FAGSW_K_il",
        "_uuid": "ad532098b4568aab69e710aa1b73097b0aeaa56a",
        "collapsed": true,
        "jupyter": {
          "outputs_hidden": true
        },
        "trusted": true
      },
      "source": [
        "# Function for evaluation reports\n",
        "def get_eval1(clf, X,y):\n",
        "    # Cross Validation to test and anticipate overfitting problem\n",
        "    scores1 = cross_val_score(clf, X, y, cv=2, scoring='accuracy')\n",
        "    scores2 = cross_val_score(clf, X, y, cv=2, scoring='precision')\n",
        "    scores3 = cross_val_score(clf, X, y, cv=2, scoring='recall')\n",
        "    scores4 = cross_val_score(clf, X, y, cv=2, scoring='roc_auc')\n",
        "    \n",
        "    # The mean score and standard deviation of the score estimate\n",
        "    print(\"Cross Validation Accuracy: %0.2f (+/- %0.2f)\" % (scores1.mean(), scores1.std()))\n",
        "    print(\"Cross Validation Precision: %0.2f (+/- %0.2f)\" % (scores2.mean(), scores2.std()))\n",
        "    print(\"Cross Validation Recall: %0.2f (+/- %0.2f)\" % (scores3.mean(), scores3.std()))\n",
        "    print(\"Cross Validation roc_auc: %0.2f (+/- %0.2f)\" % (scores4.mean(), scores4.std()))\n",
        "    \n",
        "    return \n",
        "\n",
        "def get_eval2(clf, X_train, y_train,X_test, y_test):\n",
        "    # Cross Validation to test and anticipate overfitting problem\n",
        "    scores1 = cross_val_score(clf, X_test, y_test, cv=2, scoring='accuracy')\n",
        "    scores2 = cross_val_score(clf, X_test, y_test, cv=2, scoring='precision')\n",
        "    scores3 = cross_val_score(clf, X_test, y_test, cv=2, scoring='recall')\n",
        "    scores4 = cross_val_score(clf, X_test, y_test, cv=2, scoring='roc_auc')\n",
        "    \n",
        "    # The mean score and standard deviation of the score estimate\n",
        "    print(\"Cross Validation Accuracy: %0.2f (+/- %0.2f)\" % (scores1.mean(), scores1.std()))\n",
        "    print(\"Cross Validation Precision: %0.2f (+/- %0.2f)\" % (scores2.mean(), scores2.std()))\n",
        "    print(\"Cross Validation Recall: %0.2f (+/- %0.2f)\" % (scores3.mean(), scores3.std()))\n",
        "    print(\"Cross Validation roc_auc: %0.2f (+/- %0.2f)\" % (scores4.mean(), scores4.std()))\n",
        "    \n",
        "    return  \n",
        "  \n",
        "# Function to get roc curve\n",
        "def get_roc (y_test,y_pred):\n",
        "    # Compute ROC curve and ROC area for each class\n",
        "    fpr = dict()\n",
        "    tpr = dict()\n",
        "    roc_auc = dict()\n",
        "    fpr, tpr, _ = roc_curve(y_test, y_pred)\n",
        "    roc_auc = auc(fpr, tpr)\n",
        "    #Plot of a ROC curve\n",
        "    plt.figure()\n",
        "    lw = 2\n",
        "    plt.plot(fpr, tpr, color='darkorange',\n",
        "             label='ROC curve (area = %0.2f)' % roc_auc)\n",
        "    plt.plot([0, 1], [0, 1], color='navy', lw=lw, linestyle='--')\n",
        "    plt.xlim([0.0, 1.0])\n",
        "    plt.ylim([0.0, 1.0])\n",
        "    plt.xlabel('False Positive Rate')\n",
        "    plt.ylabel('True Positive Rate')\n",
        "    plt.title('Receiver operating characteristic')\n",
        "    plt.legend(loc=\"upper left\")\n",
        "    plt.show()\n",
        "    return\n"
      ],
      "execution_count": 30,
      "outputs": []
    },
    {
      "cell_type": "markdown",
      "metadata": {
        "id": "ktQtae8aBGPQ",
        "_uuid": "148a2b3cfebaac7674b5bb78496d1cf0266a26cf"
      },
      "source": [
        "#### XGBoost Model"
      ]
    },
    {
      "cell_type": "code",
      "metadata": {
        "id": "qOM2Y0A8CGN8",
        "_uuid": "a7b80d642ccc18e23b9a0ece9c7f57eca3c67cfd",
        "collapsed": true,
        "jupyter": {
          "outputs_hidden": true
        },
        "trusted": true
      },
      "source": [
        "import warnings\n",
        "warnings.filterwarnings(\"ignore\", category=DeprecationWarning) \n",
        "\n",
        "import xgboost as xgb\n",
        "from xgboost import XGBClassifier\n",
        "#print('XGBoost v',xgb.__version__)\n",
        "\n",
        "# fit, train and cross validate Decision Tree with training and test data \n",
        "def xgbclf(params, X_train, y_train,X_test, y_test):\n",
        "  \n",
        "    eval_set=[(X_train, y_train), (X_test, y_test)]\n",
        "    \n",
        "    model = XGBClassifier(**params).\\\n",
        "      fit(X_train, y_train, eval_set=eval_set, \\\n",
        "                  eval_metric='auc', early_stopping_rounds = 100, verbose=100)\n",
        "        \n",
        "    #print(model.best_ntree_limit)\n",
        "\n",
        "    model.set_params(**{'n_estimators': model.best_ntree_limit})\n",
        "    model.fit(X_train, y_train)\n",
        "    #print(model,'\\n')\n",
        "    \n",
        "    # Predict target variables y for test data\n",
        "    y_pred = model.predict(X_test, ntree_limit=model.best_ntree_limit) #model.best_iteration\n",
        "    #print(y_pred)\n",
        "   \n",
        "    # Get Cross Validation and Confusion matrix\n",
        "    #get_eval(model, X_train, y_train)\n",
        "    #get_eval2(model, X_train, y_train,X_test, y_test)\n",
        "    \n",
        "    # Create and print confusion matrix    \n",
        "    abclf_cm = confusion_matrix(y_test,y_pred)\n",
        "    print(abclf_cm)\n",
        "    \n",
        "    #y_pred = model.predict(X_test)\n",
        "    print (classification_report(y_test,y_pred) )\n",
        "    print ('\\n')\n",
        "    print (\"Model Final Generalization Accuracy: %.6f\" %accuracy_score(y_test,y_pred) )\n",
        "    \n",
        "    # Predict probabilities target variables y for test data\n",
        "    y_pred_proba = model.predict_proba(X_test, ntree_limit=model.best_ntree_limit)[:,1] #model.best_iteration\n",
        "    get_roc (y_test,y_pred_proba)\n",
        "    return model\n",
        "\n",
        "def plot_featureImportance(model, keys):\n",
        "  importances = model.feature_importances_\n",
        "\n",
        "  importance_frame = pd.DataFrame({'Importance': list(importances), 'Feature': list(keys)})\n",
        "  importance_frame.sort_values(by = 'Importance', inplace = True)\n",
        "  importance_frame.tail(10).plot(kind = 'barh', x = 'Feature', figsize = (8,8), color = 'orange')"
      ],
      "execution_count": 31,
      "outputs": []
    },
    {
      "cell_type": "markdown",
      "metadata": {
        "id": "b9VmiiUDCvRV",
        "_uuid": "2e8d5ce5e9daf39d851ca53856f640a90156745a"
      },
      "source": [
        "<a id=\"Preprocess\"></a> <br>\n",
        "# **2. Preprocess** \n",
        "- Importing Dataset\n",
        "- StandardScaler\n",
        "- Encoding Categorical Feature\n",
        "- Concate Transformed Dataset\n",
        "- Split Training Dataset\n",
        "- XGBoost  1a: Unbalance Dataset (Base Model: ROC_AUC:0.74)\n",
        "- XGBoost  1b: Unbalance Dataset (ROC_AUC:0.79)"
      ]
    },
    {
      "cell_type": "markdown",
      "metadata": {
        "id": "L4G0iMwfKb4J",
        "_uuid": "366cfb21b371f12c5bbf005342de219717fde974"
      },
      "source": [
        "### Import Dataset\n",
        "\n",
        "OK let's get started. We'll download the data from the UCI website."
      ]
    },
    {
      "cell_type": "code",
      "metadata": {
        "id": "xHPHcWt7JE8G"
      },
      "source": [
        "### file updated path\n",
        "german_data = \"https://raw.githubusercontent.com/neta-caspi/mlops-final-proj/main/data/german-credit/german-credit-data/german.data\"\n",
        "###"
      ],
      "execution_count": 32,
      "outputs": []
    },
    {
      "cell_type": "code",
      "metadata": {
        "id": "YYgBTbPj1fbQ",
        "_uuid": "4807a2a54ddeb7ecb9142b586088ea672103d4ff",
        "collapsed": true,
        "jupyter": {
          "outputs_hidden": true
        },
        "trusted": true,
        "colab": {
          "base_uri": "https://localhost:8080/",
          "height": 548
        },
        "outputId": "f7f22b56-56f3-4417-8093-cc864d9aaa2c"
      },
      "source": [
        "###\n",
        "### file = '../input/germancreditdata/german.data'\n",
        "file = german_data\n",
        "url = \"http://archive.ics.uci.edu/ml/machine-learning-databases/statlog/german/german.data\"\n",
        "# r = requests.get(url, allow_redirects=True)\n",
        "# open(file, 'wb').write(r.content)\n",
        "\n",
        "names = ['existingchecking', 'duration', 'credithistory', 'purpose', 'creditamount', \n",
        "         'savings', 'employmentsince', 'installmentrate', 'statussex', 'otherdebtors', \n",
        "         'residencesince', 'property', 'age', 'otherinstallmentplans', 'housing', \n",
        "         'existingcredits', 'job', 'peopleliable', 'telephone', 'foreignworker', 'classification']\n",
        "\n",
        "data = pd.read_csv(file, names = names, delimiter=' ')\n",
        "print(data.shape)\n",
        "print (data.columns)\n",
        "data.head(10)"
      ],
      "execution_count": 33,
      "outputs": [
        {
          "output_type": "stream",
          "name": "stdout",
          "text": [
            "(1000, 21)\n",
            "Index(['existingchecking', 'duration', 'credithistory', 'purpose',\n",
            "       'creditamount', 'savings', 'employmentsince', 'installmentrate',\n",
            "       'statussex', 'otherdebtors', 'residencesince', 'property', 'age',\n",
            "       'otherinstallmentplans', 'housing', 'existingcredits', 'job',\n",
            "       'peopleliable', 'telephone', 'foreignworker', 'classification'],\n",
            "      dtype='object')\n"
          ]
        },
        {
          "output_type": "execute_result",
          "data": {
            "text/html": [
              "\n",
              "  <div id=\"df-0353a88a-fa14-45bd-b383-f1fbcde49dab\">\n",
              "    <div class=\"colab-df-container\">\n",
              "      <div>\n",
              "<style scoped>\n",
              "    .dataframe tbody tr th:only-of-type {\n",
              "        vertical-align: middle;\n",
              "    }\n",
              "\n",
              "    .dataframe tbody tr th {\n",
              "        vertical-align: top;\n",
              "    }\n",
              "\n",
              "    .dataframe thead th {\n",
              "        text-align: right;\n",
              "    }\n",
              "</style>\n",
              "<table border=\"1\" class=\"dataframe\">\n",
              "  <thead>\n",
              "    <tr style=\"text-align: right;\">\n",
              "      <th></th>\n",
              "      <th>existingchecking</th>\n",
              "      <th>duration</th>\n",
              "      <th>credithistory</th>\n",
              "      <th>purpose</th>\n",
              "      <th>creditamount</th>\n",
              "      <th>savings</th>\n",
              "      <th>employmentsince</th>\n",
              "      <th>installmentrate</th>\n",
              "      <th>statussex</th>\n",
              "      <th>otherdebtors</th>\n",
              "      <th>residencesince</th>\n",
              "      <th>property</th>\n",
              "      <th>age</th>\n",
              "      <th>otherinstallmentplans</th>\n",
              "      <th>housing</th>\n",
              "      <th>existingcredits</th>\n",
              "      <th>job</th>\n",
              "      <th>peopleliable</th>\n",
              "      <th>telephone</th>\n",
              "      <th>foreignworker</th>\n",
              "      <th>classification</th>\n",
              "    </tr>\n",
              "  </thead>\n",
              "  <tbody>\n",
              "    <tr>\n",
              "      <th>0</th>\n",
              "      <td>A11</td>\n",
              "      <td>6</td>\n",
              "      <td>A34</td>\n",
              "      <td>A43</td>\n",
              "      <td>1169</td>\n",
              "      <td>A65</td>\n",
              "      <td>A75</td>\n",
              "      <td>4</td>\n",
              "      <td>A93</td>\n",
              "      <td>A101</td>\n",
              "      <td>4</td>\n",
              "      <td>A121</td>\n",
              "      <td>67</td>\n",
              "      <td>A143</td>\n",
              "      <td>A152</td>\n",
              "      <td>2</td>\n",
              "      <td>A173</td>\n",
              "      <td>1</td>\n",
              "      <td>A192</td>\n",
              "      <td>A201</td>\n",
              "      <td>1</td>\n",
              "    </tr>\n",
              "    <tr>\n",
              "      <th>1</th>\n",
              "      <td>A12</td>\n",
              "      <td>48</td>\n",
              "      <td>A32</td>\n",
              "      <td>A43</td>\n",
              "      <td>5951</td>\n",
              "      <td>A61</td>\n",
              "      <td>A73</td>\n",
              "      <td>2</td>\n",
              "      <td>A92</td>\n",
              "      <td>A101</td>\n",
              "      <td>2</td>\n",
              "      <td>A121</td>\n",
              "      <td>22</td>\n",
              "      <td>A143</td>\n",
              "      <td>A152</td>\n",
              "      <td>1</td>\n",
              "      <td>A173</td>\n",
              "      <td>1</td>\n",
              "      <td>A191</td>\n",
              "      <td>A201</td>\n",
              "      <td>2</td>\n",
              "    </tr>\n",
              "    <tr>\n",
              "      <th>2</th>\n",
              "      <td>A14</td>\n",
              "      <td>12</td>\n",
              "      <td>A34</td>\n",
              "      <td>A46</td>\n",
              "      <td>2096</td>\n",
              "      <td>A61</td>\n",
              "      <td>A74</td>\n",
              "      <td>2</td>\n",
              "      <td>A93</td>\n",
              "      <td>A101</td>\n",
              "      <td>3</td>\n",
              "      <td>A121</td>\n",
              "      <td>49</td>\n",
              "      <td>A143</td>\n",
              "      <td>A152</td>\n",
              "      <td>1</td>\n",
              "      <td>A172</td>\n",
              "      <td>2</td>\n",
              "      <td>A191</td>\n",
              "      <td>A201</td>\n",
              "      <td>1</td>\n",
              "    </tr>\n",
              "    <tr>\n",
              "      <th>3</th>\n",
              "      <td>A11</td>\n",
              "      <td>42</td>\n",
              "      <td>A32</td>\n",
              "      <td>A42</td>\n",
              "      <td>7882</td>\n",
              "      <td>A61</td>\n",
              "      <td>A74</td>\n",
              "      <td>2</td>\n",
              "      <td>A93</td>\n",
              "      <td>A103</td>\n",
              "      <td>4</td>\n",
              "      <td>A122</td>\n",
              "      <td>45</td>\n",
              "      <td>A143</td>\n",
              "      <td>A153</td>\n",
              "      <td>1</td>\n",
              "      <td>A173</td>\n",
              "      <td>2</td>\n",
              "      <td>A191</td>\n",
              "      <td>A201</td>\n",
              "      <td>1</td>\n",
              "    </tr>\n",
              "    <tr>\n",
              "      <th>4</th>\n",
              "      <td>A11</td>\n",
              "      <td>24</td>\n",
              "      <td>A33</td>\n",
              "      <td>A40</td>\n",
              "      <td>4870</td>\n",
              "      <td>A61</td>\n",
              "      <td>A73</td>\n",
              "      <td>3</td>\n",
              "      <td>A93</td>\n",
              "      <td>A101</td>\n",
              "      <td>4</td>\n",
              "      <td>A124</td>\n",
              "      <td>53</td>\n",
              "      <td>A143</td>\n",
              "      <td>A153</td>\n",
              "      <td>2</td>\n",
              "      <td>A173</td>\n",
              "      <td>2</td>\n",
              "      <td>A191</td>\n",
              "      <td>A201</td>\n",
              "      <td>2</td>\n",
              "    </tr>\n",
              "    <tr>\n",
              "      <th>5</th>\n",
              "      <td>A14</td>\n",
              "      <td>36</td>\n",
              "      <td>A32</td>\n",
              "      <td>A46</td>\n",
              "      <td>9055</td>\n",
              "      <td>A65</td>\n",
              "      <td>A73</td>\n",
              "      <td>2</td>\n",
              "      <td>A93</td>\n",
              "      <td>A101</td>\n",
              "      <td>4</td>\n",
              "      <td>A124</td>\n",
              "      <td>35</td>\n",
              "      <td>A143</td>\n",
              "      <td>A153</td>\n",
              "      <td>1</td>\n",
              "      <td>A172</td>\n",
              "      <td>2</td>\n",
              "      <td>A192</td>\n",
              "      <td>A201</td>\n",
              "      <td>1</td>\n",
              "    </tr>\n",
              "    <tr>\n",
              "      <th>6</th>\n",
              "      <td>A14</td>\n",
              "      <td>24</td>\n",
              "      <td>A32</td>\n",
              "      <td>A42</td>\n",
              "      <td>2835</td>\n",
              "      <td>A63</td>\n",
              "      <td>A75</td>\n",
              "      <td>3</td>\n",
              "      <td>A93</td>\n",
              "      <td>A101</td>\n",
              "      <td>4</td>\n",
              "      <td>A122</td>\n",
              "      <td>53</td>\n",
              "      <td>A143</td>\n",
              "      <td>A152</td>\n",
              "      <td>1</td>\n",
              "      <td>A173</td>\n",
              "      <td>1</td>\n",
              "      <td>A191</td>\n",
              "      <td>A201</td>\n",
              "      <td>1</td>\n",
              "    </tr>\n",
              "    <tr>\n",
              "      <th>7</th>\n",
              "      <td>A12</td>\n",
              "      <td>36</td>\n",
              "      <td>A32</td>\n",
              "      <td>A41</td>\n",
              "      <td>6948</td>\n",
              "      <td>A61</td>\n",
              "      <td>A73</td>\n",
              "      <td>2</td>\n",
              "      <td>A93</td>\n",
              "      <td>A101</td>\n",
              "      <td>2</td>\n",
              "      <td>A123</td>\n",
              "      <td>35</td>\n",
              "      <td>A143</td>\n",
              "      <td>A151</td>\n",
              "      <td>1</td>\n",
              "      <td>A174</td>\n",
              "      <td>1</td>\n",
              "      <td>A192</td>\n",
              "      <td>A201</td>\n",
              "      <td>1</td>\n",
              "    </tr>\n",
              "    <tr>\n",
              "      <th>8</th>\n",
              "      <td>A14</td>\n",
              "      <td>12</td>\n",
              "      <td>A32</td>\n",
              "      <td>A43</td>\n",
              "      <td>3059</td>\n",
              "      <td>A64</td>\n",
              "      <td>A74</td>\n",
              "      <td>2</td>\n",
              "      <td>A91</td>\n",
              "      <td>A101</td>\n",
              "      <td>4</td>\n",
              "      <td>A121</td>\n",
              "      <td>61</td>\n",
              "      <td>A143</td>\n",
              "      <td>A152</td>\n",
              "      <td>1</td>\n",
              "      <td>A172</td>\n",
              "      <td>1</td>\n",
              "      <td>A191</td>\n",
              "      <td>A201</td>\n",
              "      <td>1</td>\n",
              "    </tr>\n",
              "    <tr>\n",
              "      <th>9</th>\n",
              "      <td>A12</td>\n",
              "      <td>30</td>\n",
              "      <td>A34</td>\n",
              "      <td>A40</td>\n",
              "      <td>5234</td>\n",
              "      <td>A61</td>\n",
              "      <td>A71</td>\n",
              "      <td>4</td>\n",
              "      <td>A94</td>\n",
              "      <td>A101</td>\n",
              "      <td>2</td>\n",
              "      <td>A123</td>\n",
              "      <td>28</td>\n",
              "      <td>A143</td>\n",
              "      <td>A152</td>\n",
              "      <td>2</td>\n",
              "      <td>A174</td>\n",
              "      <td>1</td>\n",
              "      <td>A191</td>\n",
              "      <td>A201</td>\n",
              "      <td>2</td>\n",
              "    </tr>\n",
              "  </tbody>\n",
              "</table>\n",
              "</div>\n",
              "      <button class=\"colab-df-convert\" onclick=\"convertToInteractive('df-0353a88a-fa14-45bd-b383-f1fbcde49dab')\"\n",
              "              title=\"Convert this dataframe to an interactive table.\"\n",
              "              style=\"display:none;\">\n",
              "        \n",
              "  <svg xmlns=\"http://www.w3.org/2000/svg\" height=\"24px\"viewBox=\"0 0 24 24\"\n",
              "       width=\"24px\">\n",
              "    <path d=\"M0 0h24v24H0V0z\" fill=\"none\"/>\n",
              "    <path d=\"M18.56 5.44l.94 2.06.94-2.06 2.06-.94-2.06-.94-.94-2.06-.94 2.06-2.06.94zm-11 1L8.5 8.5l.94-2.06 2.06-.94-2.06-.94L8.5 2.5l-.94 2.06-2.06.94zm10 10l.94 2.06.94-2.06 2.06-.94-2.06-.94-.94-2.06-.94 2.06-2.06.94z\"/><path d=\"M17.41 7.96l-1.37-1.37c-.4-.4-.92-.59-1.43-.59-.52 0-1.04.2-1.43.59L10.3 9.45l-7.72 7.72c-.78.78-.78 2.05 0 2.83L4 21.41c.39.39.9.59 1.41.59.51 0 1.02-.2 1.41-.59l7.78-7.78 2.81-2.81c.8-.78.8-2.07 0-2.86zM5.41 20L4 18.59l7.72-7.72 1.47 1.35L5.41 20z\"/>\n",
              "  </svg>\n",
              "      </button>\n",
              "      \n",
              "  <style>\n",
              "    .colab-df-container {\n",
              "      display:flex;\n",
              "      flex-wrap:wrap;\n",
              "      gap: 12px;\n",
              "    }\n",
              "\n",
              "    .colab-df-convert {\n",
              "      background-color: #E8F0FE;\n",
              "      border: none;\n",
              "      border-radius: 50%;\n",
              "      cursor: pointer;\n",
              "      display: none;\n",
              "      fill: #1967D2;\n",
              "      height: 32px;\n",
              "      padding: 0 0 0 0;\n",
              "      width: 32px;\n",
              "    }\n",
              "\n",
              "    .colab-df-convert:hover {\n",
              "      background-color: #E2EBFA;\n",
              "      box-shadow: 0px 1px 2px rgba(60, 64, 67, 0.3), 0px 1px 3px 1px rgba(60, 64, 67, 0.15);\n",
              "      fill: #174EA6;\n",
              "    }\n",
              "\n",
              "    [theme=dark] .colab-df-convert {\n",
              "      background-color: #3B4455;\n",
              "      fill: #D2E3FC;\n",
              "    }\n",
              "\n",
              "    [theme=dark] .colab-df-convert:hover {\n",
              "      background-color: #434B5C;\n",
              "      box-shadow: 0px 1px 3px 1px rgba(0, 0, 0, 0.15);\n",
              "      filter: drop-shadow(0px 1px 2px rgba(0, 0, 0, 0.3));\n",
              "      fill: #FFFFFF;\n",
              "    }\n",
              "  </style>\n",
              "\n",
              "      <script>\n",
              "        const buttonEl =\n",
              "          document.querySelector('#df-0353a88a-fa14-45bd-b383-f1fbcde49dab button.colab-df-convert');\n",
              "        buttonEl.style.display =\n",
              "          google.colab.kernel.accessAllowed ? 'block' : 'none';\n",
              "\n",
              "        async function convertToInteractive(key) {\n",
              "          const element = document.querySelector('#df-0353a88a-fa14-45bd-b383-f1fbcde49dab');\n",
              "          const dataTable =\n",
              "            await google.colab.kernel.invokeFunction('convertToInteractive',\n",
              "                                                     [key], {});\n",
              "          if (!dataTable) return;\n",
              "\n",
              "          const docLinkHtml = 'Like what you see? Visit the ' +\n",
              "            '<a target=\"_blank\" href=https://colab.research.google.com/notebooks/data_table.ipynb>data table notebook</a>'\n",
              "            + ' to learn more about interactive tables.';\n",
              "          element.innerHTML = '';\n",
              "          dataTable['output_type'] = 'display_data';\n",
              "          await google.colab.output.renderOutput(dataTable, element);\n",
              "          const docLink = document.createElement('div');\n",
              "          docLink.innerHTML = docLinkHtml;\n",
              "          element.appendChild(docLink);\n",
              "        }\n",
              "      </script>\n",
              "    </div>\n",
              "  </div>\n",
              "  "
            ],
            "text/plain": [
              "  existingchecking  duration  ... foreignworker classification\n",
              "0              A11         6  ...          A201              1\n",
              "1              A12        48  ...          A201              2\n",
              "2              A14        12  ...          A201              1\n",
              "3              A11        42  ...          A201              1\n",
              "4              A11        24  ...          A201              2\n",
              "5              A14        36  ...          A201              1\n",
              "6              A14        24  ...          A201              1\n",
              "7              A12        36  ...          A201              1\n",
              "8              A14        12  ...          A201              1\n",
              "9              A12        30  ...          A201              2\n",
              "\n",
              "[10 rows x 21 columns]"
            ]
          },
          "metadata": {},
          "execution_count": 33
        }
      ]
    },
    {
      "cell_type": "code",
      "metadata": {
        "id": "B3FPJfz33xkK",
        "_uuid": "224c2c3967abdccd1e4527c18024e08288ba1ca9",
        "collapsed": true,
        "jupyter": {
          "outputs_hidden": true
        },
        "trusted": true,
        "colab": {
          "base_uri": "https://localhost:8080/"
        },
        "outputId": "604014ea-d686-4361-f9d8-d4694c795d6e"
      },
      "source": [
        "# Binarize the y output for easier use of e.g. ROC curves -> 0 = 'bad' credit; 1 = 'good' credit\n",
        "data.classification.replace([1,2], [1,0], inplace=True)\n",
        "# Print number of 'good' credits (should be 700) and 'bad credits (should be 300)\n",
        "data.classification.value_counts()"
      ],
      "execution_count": 34,
      "outputs": [
        {
          "output_type": "execute_result",
          "data": {
            "text/plain": [
              "1    700\n",
              "0    300\n",
              "Name: classification, dtype: int64"
            ]
          },
          "metadata": {},
          "execution_count": 34
        }
      ]
    },
    {
      "cell_type": "markdown",
      "metadata": {
        "id": "Tr1A8ZIHzuFw",
        "_uuid": "2d2774790c3f63cfc0eaa81517ce8f0eb4680478"
      },
      "source": [
        "### StandardScaler"
      ]
    },
    {
      "cell_type": "code",
      "metadata": {
        "id": "dKKUEqTo380x",
        "_uuid": "f03a76714ee08fe41f9b59aab287d68d481892b5",
        "collapsed": true,
        "jupyter": {
          "outputs_hidden": true
        },
        "trusted": true
      },
      "source": [
        "#numerical variables labels\n",
        "numvars = ['creditamount', 'duration', 'installmentrate', 'residencesince', 'age', \n",
        "           'existingcredits', 'peopleliable', 'classification']\n",
        "\n",
        "# Standardization\n",
        "numdata_std = pd.DataFrame(StandardScaler().fit_transform(data[numvars].drop(['classification'], axis=1)))"
      ],
      "execution_count": 35,
      "outputs": []
    },
    {
      "cell_type": "markdown",
      "metadata": {
        "id": "X4ZzfmRy4M9I",
        "_uuid": "19dce81fc16194265c5d8942fa81c64934d60855"
      },
      "source": [
        "### Encoding Categorical Feature\n",
        "\n",
        "Labelencoding to transform categorical to numerical, Enables better Visualization than one hot encoding"
      ]
    },
    {
      "cell_type": "code",
      "metadata": {
        "id": "xSnUU8E_4IgX",
        "_uuid": "dab67695a0984af965a7dbea250276c4369b5875",
        "collapsed": true,
        "jupyter": {
          "outputs_hidden": true
        },
        "trusted": true,
        "colab": {
          "base_uri": "https://localhost:8080/"
        },
        "outputId": "83163339-b12c-4471-aed1-09890a8d5102"
      },
      "source": [
        "from collections import defaultdict\n",
        "\n",
        "#categorical variables labels\n",
        "catvars = ['existingchecking', 'credithistory', 'purpose', 'savings', 'employmentsince',\n",
        "           'statussex', 'otherdebtors', 'property', 'otherinstallmentplans', 'housing', 'job', \n",
        "           'telephone', 'foreignworker']\n",
        "\n",
        "d = defaultdict(LabelEncoder)\n",
        "\n",
        "# Encoding the variable\n",
        "lecatdata = data[catvars].apply(lambda x: d[x.name].fit_transform(x))\n",
        "\n",
        "# print transformations\n",
        "for x in range(len(catvars)):\n",
        "    print(catvars[x],\": \", data[catvars[x]].unique())\n",
        "    print(catvars[x],\": \", lecatdata[catvars[x]].unique())\n",
        "\n",
        "#One hot encoding, create dummy variables for every category of every categorical variable\n",
        "dummyvars = pd.get_dummies(data[catvars])"
      ],
      "execution_count": 36,
      "outputs": [
        {
          "output_type": "stream",
          "name": "stdout",
          "text": [
            "existingchecking :  ['A11' 'A12' 'A14' 'A13']\n",
            "existingchecking :  [0 1 3 2]\n",
            "credithistory :  ['A34' 'A32' 'A33' 'A30' 'A31']\n",
            "credithistory :  [4 2 3 0 1]\n",
            "purpose :  ['A43' 'A46' 'A42' 'A40' 'A41' 'A49' 'A44' 'A45' 'A410' 'A48']\n",
            "purpose :  [4 7 3 0 1 9 5 6 2 8]\n",
            "savings :  ['A65' 'A61' 'A63' 'A64' 'A62']\n",
            "savings :  [4 0 2 3 1]\n",
            "employmentsince :  ['A75' 'A73' 'A74' 'A71' 'A72']\n",
            "employmentsince :  [4 2 3 0 1]\n",
            "statussex :  ['A93' 'A92' 'A91' 'A94']\n",
            "statussex :  [2 1 0 3]\n",
            "otherdebtors :  ['A101' 'A103' 'A102']\n",
            "otherdebtors :  [0 2 1]\n",
            "property :  ['A121' 'A122' 'A124' 'A123']\n",
            "property :  [0 1 3 2]\n",
            "otherinstallmentplans :  ['A143' 'A141' 'A142']\n",
            "otherinstallmentplans :  [2 0 1]\n",
            "housing :  ['A152' 'A153' 'A151']\n",
            "housing :  [1 2 0]\n",
            "job :  ['A173' 'A172' 'A174' 'A171']\n",
            "job :  [2 1 3 0]\n",
            "telephone :  ['A192' 'A191']\n",
            "telephone :  [1 0]\n",
            "foreignworker :  ['A201' 'A202']\n",
            "foreignworker :  [0 1]\n"
          ]
        }
      ]
    },
    {
      "cell_type": "markdown",
      "metadata": {
        "id": "R3OBrifU4Zpb",
        "_uuid": "6a15498bdd45a6b2d0c88edbe3059744294396c6"
      },
      "source": [
        "### Concate Transformed Dataset\n",
        "append the dummy variable of the initial numerical variables numvars# append "
      ]
    },
    {
      "cell_type": "code",
      "metadata": {
        "id": "jkncbC1M4ZzD",
        "_uuid": "50738e0e4b89a8facc7c73581661f3110427d8e9",
        "collapsed": true,
        "jupyter": {
          "outputs_hidden": true
        },
        "trusted": true,
        "colab": {
          "base_uri": "https://localhost:8080/"
        },
        "outputId": "61f2fc93-ae32-4ca7-d4af-978b59efa546"
      },
      "source": [
        "data_clean = pd.concat([data[numvars], dummyvars], axis = 1)\n",
        "\n",
        "print(data_clean.shape)"
      ],
      "execution_count": 37,
      "outputs": [
        {
          "output_type": "stream",
          "name": "stdout",
          "text": [
            "(1000, 62)\n"
          ]
        }
      ]
    },
    {
      "cell_type": "markdown",
      "metadata": {
        "id": "OI89YwDN4kXI",
        "_uuid": "53f8db9397eeb56dae3d735e712b4ba251a36a7b"
      },
      "source": [
        "### Split Training Dataset"
      ]
    },
    {
      "cell_type": "code",
      "metadata": {
        "id": "cP6puz7s4hQr",
        "_uuid": "5f1724b5dc93f592481eb1c608553d1c5fad2108",
        "collapsed": true,
        "jupyter": {
          "outputs_hidden": true
        },
        "trusted": true
      },
      "source": [
        "# Unscaled, unnormalized data\n",
        "X_clean = data_clean.drop('classification', axis=1)\n",
        "y_clean = data_clean['classification']\n",
        "X_train_clean, X_test_clean, y_train_clean, y_test_clean = train_test_split(X_clean,y_clean,test_size=0.2, random_state=1)"
      ],
      "execution_count": 38,
      "outputs": []
    },
    {
      "cell_type": "code",
      "metadata": {
        "id": "MkEfVz7rgssR",
        "_uuid": "900557195bd519524bb3d46fb6b3d8d7344692dc",
        "collapsed": true,
        "jupyter": {
          "outputs_hidden": true
        },
        "trusted": true,
        "colab": {
          "base_uri": "https://localhost:8080/"
        },
        "outputId": "37b5f72f-94c7-453f-be49-df91d4694a81"
      },
      "source": [
        "X_train_clean.keys()"
      ],
      "execution_count": 39,
      "outputs": [
        {
          "output_type": "execute_result",
          "data": {
            "text/plain": [
              "Index(['creditamount', 'duration', 'installmentrate', 'residencesince', 'age',\n",
              "       'existingcredits', 'peopleliable', 'existingchecking_A11',\n",
              "       'existingchecking_A12', 'existingchecking_A13', 'existingchecking_A14',\n",
              "       'credithistory_A30', 'credithistory_A31', 'credithistory_A32',\n",
              "       'credithistory_A33', 'credithistory_A34', 'purpose_A40', 'purpose_A41',\n",
              "       'purpose_A410', 'purpose_A42', 'purpose_A43', 'purpose_A44',\n",
              "       'purpose_A45', 'purpose_A46', 'purpose_A48', 'purpose_A49',\n",
              "       'savings_A61', 'savings_A62', 'savings_A63', 'savings_A64',\n",
              "       'savings_A65', 'employmentsince_A71', 'employmentsince_A72',\n",
              "       'employmentsince_A73', 'employmentsince_A74', 'employmentsince_A75',\n",
              "       'statussex_A91', 'statussex_A92', 'statussex_A93', 'statussex_A94',\n",
              "       'otherdebtors_A101', 'otherdebtors_A102', 'otherdebtors_A103',\n",
              "       'property_A121', 'property_A122', 'property_A123', 'property_A124',\n",
              "       'otherinstallmentplans_A141', 'otherinstallmentplans_A142',\n",
              "       'otherinstallmentplans_A143', 'housing_A151', 'housing_A152',\n",
              "       'housing_A153', 'job_A171', 'job_A172', 'job_A173', 'job_A174',\n",
              "       'telephone_A191', 'telephone_A192', 'foreignworker_A201',\n",
              "       'foreignworker_A202'],\n",
              "      dtype='object')"
            ]
          },
          "metadata": {},
          "execution_count": 39
        }
      ]
    },
    {
      "cell_type": "markdown",
      "metadata": {
        "_uuid": "10ebb57456ac4233b77b1ad284c15984aee73a1c",
        "id": "r0ORVWJVGxdq"
      },
      "source": [
        "### XGBoost  1b: Unbalance Dataset (ROC_AUC:0.79)"
      ]
    },
    {
      "cell_type": "code",
      "metadata": {
        "_uuid": "9b27e5641d57347d244ebc33a634c35a3a8e0947",
        "collapsed": true,
        "jupyter": {
          "outputs_hidden": true
        },
        "trusted": true,
        "id": "_z-s7sgxGxdq",
        "colab": {
          "base_uri": "https://localhost:8080/",
          "height": 718
        },
        "outputId": "6ec2f649-4681-4b49-90cc-4a83b50da6a0"
      },
      "source": [
        "params={}\n",
        "\n",
        "params1={\n",
        "    'n_estimators':3000,\n",
        "    'objective': 'binary:logistic',\n",
        "    'learning_rate': 0.05,\n",
        "    'gamma':0.1,\n",
        "    'subsample':0.8,\n",
        "    'colsample_bytree':0.3,\n",
        "    'min_child_weight':3,\n",
        "    'max_depth':3,\n",
        "    #'seed':1024,\n",
        "    'n_jobs' : -1\n",
        "}\n",
        "\n",
        "params2={\n",
        "    'n_estimators':3000,\n",
        "    'objective': 'binary:logistic',\n",
        "    'learning_rate': 0.005,\n",
        "    #'gamma':0.01,\n",
        "    'subsample':0.555,\n",
        "    'colsample_bytree':0.7,\n",
        "    'min_child_weight':3,\n",
        "    'max_depth':8,\n",
        "    #'seed':1024,\n",
        "    'n_jobs' : -1\n",
        "}\n",
        "\n",
        "xgbclf(params2, X_train_clean, y_train_clean, X_test_clean, y_test_clean)"
      ],
      "execution_count": 40,
      "outputs": [
        {
          "output_type": "stream",
          "name": "stdout",
          "text": [
            "[0]\tvalidation_0-auc:0.788664\tvalidation_1-auc:0.708258\n",
            "Multiple eval metrics have been passed: 'validation_1-auc' will be used for early stopping.\n",
            "\n",
            "Will train until validation_1-auc hasn't improved in 100 rounds.\n",
            "[100]\tvalidation_0-auc:0.893809\tvalidation_1-auc:0.780803\n",
            "Stopping. Best iteration:\n",
            "[9]\tvalidation_0-auc:0.873373\tvalidation_1-auc:0.785611\n",
            "\n",
            "[[ 23  36]\n",
            " [  5 136]]\n",
            "              precision    recall  f1-score   support\n",
            "\n",
            "           0       0.82      0.39      0.53        59\n",
            "           1       0.79      0.96      0.87       141\n",
            "\n",
            "    accuracy                           0.80       200\n",
            "   macro avg       0.81      0.68      0.70       200\n",
            "weighted avg       0.80      0.80      0.77       200\n",
            "\n",
            "\n",
            "\n",
            "Model Final Generalization Accuracy: 0.795000\n"
          ]
        },
        {
          "output_type": "display_data",
          "data": {
            "image/png": "[encoded data removed]",
            "text/plain": [
              "<Figure size 432x288 with 1 Axes>"
            ]
          },
          "metadata": {}
        },
        {
          "output_type": "execute_result",
          "data": {
            "text/plain": [
              "XGBClassifier(colsample_bytree=0.7, learning_rate=0.005, max_depth=8,\n",
              "              min_child_weight=3, n_estimators=10, n_jobs=-1, subsample=0.555)"
            ]
          },
          "metadata": {},
          "execution_count": 40
        }
      ]
    },
    {
      "cell_type": "code",
      "source": [
        ""
      ],
      "metadata": {
        "id": "b5es0_Why68q"
      },
      "execution_count": 40,
      "outputs": []
    }
  ]
}