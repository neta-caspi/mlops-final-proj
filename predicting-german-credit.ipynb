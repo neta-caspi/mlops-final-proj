{
  "nbformat": 4,
  "nbformat_minor": 0,
  "metadata": {
    "colab": {
      "name": "predicting-german-credit.ipynb",
      "provenance": [],
      "collapsed_sections": [],
      "include_colab_link": true
    },
    "kernelspec": {
      "display_name": "Python 3",
      "language": "python",
      "name": "python3"
    },
    "language_info": {
      "name": "python",
      "version": "3.6.6",
      "mimetype": "text/x-python",
      "codemirror_mode": {
        "name": "ipython",
        "version": 3
      },
      "pygments_lexer": "ipython3",
      "nbconvert_exporter": "python",
      "file_extension": ".py"
    }
  },
  "cells": [
    {
      "cell_type": "markdown",
      "metadata": {
        "id": "view-in-github",
        "colab_type": "text"
      },
      "source": [
        "<a href=\"https://colab.research.google.com/github/neta-caspi/mlops-final-proj/blob/main/predicting-german-credit.ipynb\" target=\"_parent\"><img src=\"https://colab.research.google.com/assets/colab-badge.svg\" alt=\"Open In Colab\"/></a>"
      ]
    },
    {
      "cell_type": "markdown",
      "metadata": {
        "id": "uOcS5s3VZKFq",
        "_uuid": "6f9d55e2cd5792dc66d332ef3ccafde266046ce4"
      },
      "source": [
        "The German Credit data set is a publically available data set downloaded from the UCI Machine Learning Repository. The data contains data on 20 variables and the classification whether an applicant is considered a Good or a Bad credit risk for 1000 loan applicants.\n",
        "\n",
        "### [Data Source](https://archive.ics.uci.edu/ml/datasets/statlog+(german+credit+data))\n",
        "- Professor Dr. Hans Hofmann  \n",
        "- Institut f\"ur Statistik und \"Okonometrie  \n",
        "- Universit\"at Hamburg  \n",
        "- FB Wirtschaftswissenschaften  \n",
        "- Von-Melle-Park 5    \n",
        "- 2000 Hamburg 13\n",
        "\n",
        "### Benchmark\n",
        "![Credit Risk Classification: Faster Machine Learning with Intel Optimized Packages](https://i.imgur.com/nL1l7WI.png)\n",
        "\n",
        "according to [1] the best model is Random Forest with balanced feature selection data. it's has Accuracy 82%, Precision 84%, Recall 82% and F1-Score 81%. \n",
        "\n",
        "<br>\n",
        "\n",
        "\n",
        "The goal of this kernel is to beat The benchmark with  :\n",
        "- Convert dataset to Machine Learning friendly (Feature Engginering)\n",
        "- Develop XGBoost model to predict whether a loan is a good or bad risk.\n",
        "- Find the Best parameter for XGBoost Model (Hyperparameter Tunning)\n",
        "- Beat the Benchmark"
      ]
    },
    {
      "cell_type": "markdown",
      "metadata": {
        "id": "BFIDjGe8BNiZ",
        "_uuid": "12bfcccb8223f3c0039be46a701bff6b3311eb74"
      },
      "source": [
        ""
      ]
    },
    {
      "cell_type": "markdown",
      "metadata": {
        "id": "kqRSZpTCfG10",
        "_uuid": "63a5648103f48c821752a5b1f403dfb477159180"
      },
      "source": [
        "# Table of Content\n",
        "\n",
        "**1. [Introduction](#Introduction)** <br>\n",
        "    - Import Library\n",
        "    - Evaluation Function\n",
        "    - XGBoost Model\n",
        "**2. [Preprocess](#Preprocess)** <br>\n",
        "    - Importing Dataset\n",
        "    - StandardScaler\n",
        "    - Encoding Categorical Feature\n",
        "    - Concate Transformed Dataset\n",
        "    - Split Training Dataset\n",
        "    - XGBoost  1a: Unbalance Dataset (Base Model: ROC_AUC:0.74)\n",
        "    - XGBoost  1b: Unbalance Dataset (ROC_AUC:0.79)\n",
        "**3. [Balanced Dataset](#Balanced Dataset)** <br>    \n",
        "    - XGBoost 2a: Balanced (Base Model: ROC_AUC:0.77)\n",
        "    - **XGBoost 2b: Balanced (ROC_AUC:0.80)**\n",
        "**4. [Others](#Others)** <br>  \n",
        "    - Lighgbm (ROC_AUC:0.73)\n",
        "    - LogisticRegression (ROC_AUC:0.77)\n",
        "    - RandomForestClassifier (ROC_AUC:0.69)\n",
        "    - ExtraTreesClassifier (ROC_AUC:0.74)\n",
        "    - DecisionTreeClassifier (ROC_AUC:0.64)\n",
        "    - GradientBoostingClassifier (ROC_AUC:0.76)\n",
        "    - AdaBoostClassifier (ROC_AUC:0.72)"
      ]
    },
    {
      "cell_type": "markdown",
      "metadata": {
        "id": "BwWgAWVLC2Ln",
        "_uuid": "afe3100b12ba5779b15f698a1975eaab170742c4"
      },
      "source": [
        "<a id=\"Introduction\"></a> <br>\n",
        "# **1. Introduction:** \n",
        "- Import Library\n",
        "- Evaluation Function\n",
        "- XGBoost Model"
      ]
    },
    {
      "cell_type": "markdown",
      "metadata": {
        "id": "oZH67UWnA915",
        "_uuid": "86c6a56e4b0988d902401370b957f63f4f2754f1"
      },
      "source": [
        "### Import Library"
      ]
    },
    {
      "cell_type": "code",
      "metadata": {
        "id": "UQUQbCn-LIjR",
        "_uuid": "fa1b3ac82eb8fe1b02d69fab3a10b621f1392484",
        "collapsed": true,
        "jupyter": {
          "outputs_hidden": true
        },
        "trusted": true
      },
      "source": [
        "#Importing necessary packages in Python \n",
        "%matplotlib inline \n",
        "import matplotlib.pyplot as plt \n",
        "\n",
        "import numpy as np ; np.random.seed(sum(map(ord, \"aesthetics\")))\n",
        "import pandas as pd\n",
        "\n",
        "from sklearn.datasets import make_classification \n",
        "\n",
        "### module moved...\n",
        "### from sklearn.learning_curve import learning_curve\n",
        "from sklearn.model_selection import learning_curve \n",
        "###\n",
        "\n",
        "#from sklearn.cross_validation import train_test_split \n",
        "#from sklearn.grid_search import GridSearchCV\n",
        "#from sklearn.cross_validation import ShuffleSplit\n",
        "from sklearn.metrics import classification_report,confusion_matrix, roc_curve, roc_auc_score, auc, accuracy_score\n",
        "from sklearn.model_selection import ShuffleSplit,train_test_split, cross_val_score, GridSearchCV\n",
        "from sklearn.preprocessing import OneHotEncoder, LabelEncoder, label_binarize, StandardScaler, MinMaxScaler\n",
        "\n",
        "import seaborn \n",
        "seaborn.set_context('notebook') \n",
        "seaborn.set_style(style='darkgrid')\n",
        "\n",
        "from pprint import pprint \n",
        "\n",
        "import requests"
      ],
      "execution_count": null,
      "outputs": []
    },
    {
      "cell_type": "markdown",
      "metadata": {
        "id": "HvfBj0KiBC1m",
        "_uuid": "e53977fea8ba2969bb815820b810ae0798f79ff3"
      },
      "source": [
        "### Evaluation Function\n"
      ]
    },
    {
      "cell_type": "code",
      "metadata": {
        "id": "Y5FAGSW_K_il",
        "_uuid": "ad532098b4568aab69e710aa1b73097b0aeaa56a",
        "collapsed": true,
        "jupyter": {
          "outputs_hidden": true
        },
        "trusted": true
      },
      "source": [
        "# Function for evaluation reports\n",
        "def get_eval1(clf, X,y):\n",
        "    # Cross Validation to test and anticipate overfitting problem\n",
        "    scores1 = cross_val_score(clf, X, y, cv=2, scoring='accuracy')\n",
        "    scores2 = cross_val_score(clf, X, y, cv=2, scoring='precision')\n",
        "    scores3 = cross_val_score(clf, X, y, cv=2, scoring='recall')\n",
        "    scores4 = cross_val_score(clf, X, y, cv=2, scoring='roc_auc')\n",
        "    \n",
        "    # The mean score and standard deviation of the score estimate\n",
        "    print(\"Cross Validation Accuracy: %0.2f (+/- %0.2f)\" % (scores1.mean(), scores1.std()))\n",
        "    print(\"Cross Validation Precision: %0.2f (+/- %0.2f)\" % (scores2.mean(), scores2.std()))\n",
        "    print(\"Cross Validation Recall: %0.2f (+/- %0.2f)\" % (scores3.mean(), scores3.std()))\n",
        "    print(\"Cross Validation roc_auc: %0.2f (+/- %0.2f)\" % (scores4.mean(), scores4.std()))\n",
        "    \n",
        "    return \n",
        "\n",
        "def get_eval2(clf, X_train, y_train,X_test, y_test):\n",
        "    # Cross Validation to test and anticipate overfitting problem\n",
        "    scores1 = cross_val_score(clf, X_test, y_test, cv=2, scoring='accuracy')\n",
        "    scores2 = cross_val_score(clf, X_test, y_test, cv=2, scoring='precision')\n",
        "    scores3 = cross_val_score(clf, X_test, y_test, cv=2, scoring='recall')\n",
        "    scores4 = cross_val_score(clf, X_test, y_test, cv=2, scoring='roc_auc')\n",
        "    \n",
        "    # The mean score and standard deviation of the score estimate\n",
        "    print(\"Cross Validation Accuracy: %0.2f (+/- %0.2f)\" % (scores1.mean(), scores1.std()))\n",
        "    print(\"Cross Validation Precision: %0.2f (+/- %0.2f)\" % (scores2.mean(), scores2.std()))\n",
        "    print(\"Cross Validation Recall: %0.2f (+/- %0.2f)\" % (scores3.mean(), scores3.std()))\n",
        "    print(\"Cross Validation roc_auc: %0.2f (+/- %0.2f)\" % (scores4.mean(), scores4.std()))\n",
        "    \n",
        "    return  \n",
        "  \n",
        "# Function to get roc curve\n",
        "def get_roc (y_test,y_pred):\n",
        "    # Compute ROC curve and ROC area for each class\n",
        "    fpr = dict()\n",
        "    tpr = dict()\n",
        "    roc_auc = dict()\n",
        "    fpr, tpr, _ = roc_curve(y_test, y_pred)\n",
        "    roc_auc = auc(fpr, tpr)\n",
        "    #Plot of a ROC curve\n",
        "    plt.figure()\n",
        "    lw = 2\n",
        "    plt.plot(fpr, tpr, color='darkorange',\n",
        "             label='ROC curve (area = %0.2f)' % roc_auc)\n",
        "    plt.plot([0, 1], [0, 1], color='navy', lw=lw, linestyle='--')\n",
        "    plt.xlim([0.0, 1.0])\n",
        "    plt.ylim([0.0, 1.0])\n",
        "    plt.xlabel('False Positive Rate')\n",
        "    plt.ylabel('True Positive Rate')\n",
        "    plt.title('Receiver operating characteristic')\n",
        "    plt.legend(loc=\"upper left\")\n",
        "    plt.show()\n",
        "    return\n"
      ],
      "execution_count": null,
      "outputs": []
    },
    {
      "cell_type": "markdown",
      "metadata": {
        "id": "ktQtae8aBGPQ",
        "_uuid": "148a2b3cfebaac7674b5bb78496d1cf0266a26cf"
      },
      "source": [
        "#### XGBoost Model"
      ]
    },
    {
      "cell_type": "code",
      "metadata": {
        "id": "qOM2Y0A8CGN8",
        "_uuid": "a7b80d642ccc18e23b9a0ece9c7f57eca3c67cfd",
        "collapsed": true,
        "jupyter": {
          "outputs_hidden": true
        },
        "trusted": true
      },
      "source": [
        "import warnings\n",
        "warnings.filterwarnings(\"ignore\", category=DeprecationWarning) \n",
        "\n",
        "import xgboost as xgb\n",
        "from xgboost import XGBClassifier\n",
        "#print('XGBoost v',xgb.__version__)\n",
        "\n",
        "# fit, train and cross validate Decision Tree with training and test data \n",
        "def xgbclf(params, X_train, y_train,X_test, y_test):\n",
        "  \n",
        "    eval_set=[(X_train, y_train), (X_test, y_test)]\n",
        "    \n",
        "    model = XGBClassifier(**params).\\\n",
        "      fit(X_train, y_train, eval_set=eval_set, \\\n",
        "                  eval_metric='auc', early_stopping_rounds = 100, verbose=100)\n",
        "        \n",
        "    #print(model.best_ntree_limit)\n",
        "\n",
        "    model.set_params(**{'n_estimators': model.best_ntree_limit})\n",
        "    model.fit(X_train, y_train)\n",
        "    #print(model,'\\n')\n",
        "    \n",
        "    # Predict target variables y for test data\n",
        "    y_pred = model.predict(X_test, ntree_limit=model.best_ntree_limit) #model.best_iteration\n",
        "    #print(y_pred)\n",
        "   \n",
        "    # Get Cross Validation and Confusion matrix\n",
        "    #get_eval(model, X_train, y_train)\n",
        "    #get_eval2(model, X_train, y_train,X_test, y_test)\n",
        "    \n",
        "    # Create and print confusion matrix    \n",
        "    abclf_cm = confusion_matrix(y_test,y_pred)\n",
        "    print(abclf_cm)\n",
        "    \n",
        "    #y_pred = model.predict(X_test)\n",
        "    print (classification_report(y_test,y_pred) )\n",
        "    print ('\\n')\n",
        "    print (\"Model Final Generalization Accuracy: %.6f\" %accuracy_score(y_test,y_pred) )\n",
        "    \n",
        "    # Predict probabilities target variables y for test data\n",
        "    y_pred_proba = model.predict_proba(X_test, ntree_limit=model.best_ntree_limit)[:,1] #model.best_iteration\n",
        "    get_roc (y_test,y_pred_proba)\n",
        "    return model\n",
        "\n",
        "def plot_featureImportance(model, keys):\n",
        "  importances = model.feature_importances_\n",
        "\n",
        "  importance_frame = pd.DataFrame({'Importance': list(importances), 'Feature': list(keys)})\n",
        "  importance_frame.sort_values(by = 'Importance', inplace = True)\n",
        "  importance_frame.tail(10).plot(kind = 'barh', x = 'Feature', figsize = (8,8), color = 'orange')"
      ],
      "execution_count": null,
      "outputs": []
    },
    {
      "cell_type": "markdown",
      "metadata": {
        "id": "b9VmiiUDCvRV",
        "_uuid": "2e8d5ce5e9daf39d851ca53856f640a90156745a"
      },
      "source": [
        "<a id=\"Preprocess\"></a> <br>\n",
        "# **2. Preprocess** \n",
        "- Importing Dataset\n",
        "- StandardScaler\n",
        "- Encoding Categorical Feature\n",
        "- Concate Transformed Dataset\n",
        "- Split Training Dataset\n",
        "- XGBoost  1a: Unbalance Dataset (Base Model: ROC_AUC:0.74)\n",
        "- XGBoost  1b: Unbalance Dataset (ROC_AUC:0.79)"
      ]
    },
    {
      "cell_type": "markdown",
      "metadata": {
        "id": "L4G0iMwfKb4J",
        "_uuid": "366cfb21b371f12c5bbf005342de219717fde974"
      },
      "source": [
        "### Import Dataset\n",
        "\n",
        "OK let's get started. We'll download the data from the UCI website."
      ]
    },
    {
      "cell_type": "code",
      "metadata": {
        "id": "bMYFpGAII95b",
        "colab": {
          "base_uri": "https://localhost:8080/"
        },
        "outputId": "bba5a8cd-251c-4e7e-bcf0-c57a5a48981a"
      },
      "source": [
        "### Mount GDrive for Data\n",
        "from google.colab import drive\n",
        "drive.mount(\"/content/gdrive\")\n",
        "###"
      ],
      "execution_count": null,
      "outputs": [
        {
          "output_type": "stream",
          "name": "stdout",
          "text": [
            "Mounted at /content/gdrive\n"
          ]
        }
      ]
    },
    {
      "cell_type": "code",
      "metadata": {
        "id": "xHPHcWt7JE8G"
      },
      "source": [
        "### file updated path\n",
        "german_credit_data_dir_path = \"/content/gdrive/MyDrive/Data Science Master/2022-A-MLOps/Project/german-bank/german-credit-data/\"\n",
        "###"
      ],
      "execution_count": null,
      "outputs": []
    },
    {
      "cell_type": "code",
      "metadata": {
        "id": "YYgBTbPj1fbQ",
        "_uuid": "4807a2a54ddeb7ecb9142b586088ea672103d4ff",
        "collapsed": true,
        "jupyter": {
          "outputs_hidden": true
        },
        "trusted": true,
        "colab": {
          "base_uri": "https://localhost:8080/",
          "height": 498
        },
        "outputId": "ed5b1bad-49ac-498c-94e1-91e3a92b51d9"
      },
      "source": [
        "###\n",
        "### file = '../input/germancreditdata/german.data'\n",
        "file = german_credit_data_dir_path + 'german.data'\n",
        "url = \"http://archive.ics.uci.edu/ml/machine-learning-databases/statlog/german/german.data\"\n",
        "# r = requests.get(url, allow_redirects=True)\n",
        "# open(file, 'wb').write(r.content)\n",
        "\n",
        "names = ['existingchecking', 'duration', 'credithistory', 'purpose', 'creditamount', \n",
        "         'savings', 'employmentsince', 'installmentrate', 'statussex', 'otherdebtors', \n",
        "         'residencesince', 'property', 'age', 'otherinstallmentplans', 'housing', \n",
        "         'existingcredits', 'job', 'peopleliable', 'telephone', 'foreignworker', 'classification']\n",
        "\n",
        "data = pd.read_csv(file,names = names, delimiter=' ')\n",
        "print(data.shape)\n",
        "print (data.columns)\n",
        "data.head(10)"
      ],
      "execution_count": null,
      "outputs": [
        {
          "output_type": "stream",
          "name": "stdout",
          "text": [
            "(1000, 21)\n",
            "Index(['existingchecking', 'duration', 'credithistory', 'purpose',\n",
            "       'creditamount', 'savings', 'employmentsince', 'installmentrate',\n",
            "       'statussex', 'otherdebtors', 'residencesince', 'property', 'age',\n",
            "       'otherinstallmentplans', 'housing', 'existingcredits', 'job',\n",
            "       'peopleliable', 'telephone', 'foreignworker', 'classification'],\n",
            "      dtype='object')\n"
          ]
        },
        {
          "output_type": "execute_result",
          "data": {
            "text/html": [
              "<div>\n",
              "<style scoped>\n",
              "    .dataframe tbody tr th:only-of-type {\n",
              "        vertical-align: middle;\n",
              "    }\n",
              "\n",
              "    .dataframe tbody tr th {\n",
              "        vertical-align: top;\n",
              "    }\n",
              "\n",
              "    .dataframe thead th {\n",
              "        text-align: right;\n",
              "    }\n",
              "</style>\n",
              "<table border=\"1\" class=\"dataframe\">\n",
              "  <thead>\n",
              "    <tr style=\"text-align: right;\">\n",
              "      <th></th>\n",
              "      <th>existingchecking</th>\n",
              "      <th>duration</th>\n",
              "      <th>credithistory</th>\n",
              "      <th>purpose</th>\n",
              "      <th>creditamount</th>\n",
              "      <th>savings</th>\n",
              "      <th>employmentsince</th>\n",
              "      <th>installmentrate</th>\n",
              "      <th>statussex</th>\n",
              "      <th>otherdebtors</th>\n",
              "      <th>residencesince</th>\n",
              "      <th>property</th>\n",
              "      <th>age</th>\n",
              "      <th>otherinstallmentplans</th>\n",
              "      <th>housing</th>\n",
              "      <th>existingcredits</th>\n",
              "      <th>job</th>\n",
              "      <th>peopleliable</th>\n",
              "      <th>telephone</th>\n",
              "      <th>foreignworker</th>\n",
              "      <th>classification</th>\n",
              "    </tr>\n",
              "  </thead>\n",
              "  <tbody>\n",
              "    <tr>\n",
              "      <th>0</th>\n",
              "      <td>A11</td>\n",
              "      <td>6</td>\n",
              "      <td>A34</td>\n",
              "      <td>A43</td>\n",
              "      <td>1169</td>\n",
              "      <td>A65</td>\n",
              "      <td>A75</td>\n",
              "      <td>4</td>\n",
              "      <td>A93</td>\n",
              "      <td>A101</td>\n",
              "      <td>4</td>\n",
              "      <td>A121</td>\n",
              "      <td>67</td>\n",
              "      <td>A143</td>\n",
              "      <td>A152</td>\n",
              "      <td>2</td>\n",
              "      <td>A173</td>\n",
              "      <td>1</td>\n",
              "      <td>A192</td>\n",
              "      <td>A201</td>\n",
              "      <td>1</td>\n",
              "    </tr>\n",
              "    <tr>\n",
              "      <th>1</th>\n",
              "      <td>A12</td>\n",
              "      <td>48</td>\n",
              "      <td>A32</td>\n",
              "      <td>A43</td>\n",
              "      <td>5951</td>\n",
              "      <td>A61</td>\n",
              "      <td>A73</td>\n",
              "      <td>2</td>\n",
              "      <td>A92</td>\n",
              "      <td>A101</td>\n",
              "      <td>2</td>\n",
              "      <td>A121</td>\n",
              "      <td>22</td>\n",
              "      <td>A143</td>\n",
              "      <td>A152</td>\n",
              "      <td>1</td>\n",
              "      <td>A173</td>\n",
              "      <td>1</td>\n",
              "      <td>A191</td>\n",
              "      <td>A201</td>\n",
              "      <td>2</td>\n",
              "    </tr>\n",
              "    <tr>\n",
              "      <th>2</th>\n",
              "      <td>A14</td>\n",
              "      <td>12</td>\n",
              "      <td>A34</td>\n",
              "      <td>A46</td>\n",
              "      <td>2096</td>\n",
              "      <td>A61</td>\n",
              "      <td>A74</td>\n",
              "      <td>2</td>\n",
              "      <td>A93</td>\n",
              "      <td>A101</td>\n",
              "      <td>3</td>\n",
              "      <td>A121</td>\n",
              "      <td>49</td>\n",
              "      <td>A143</td>\n",
              "      <td>A152</td>\n",
              "      <td>1</td>\n",
              "      <td>A172</td>\n",
              "      <td>2</td>\n",
              "      <td>A191</td>\n",
              "      <td>A201</td>\n",
              "      <td>1</td>\n",
              "    </tr>\n",
              "    <tr>\n",
              "      <th>3</th>\n",
              "      <td>A11</td>\n",
              "      <td>42</td>\n",
              "      <td>A32</td>\n",
              "      <td>A42</td>\n",
              "      <td>7882</td>\n",
              "      <td>A61</td>\n",
              "      <td>A74</td>\n",
              "      <td>2</td>\n",
              "      <td>A93</td>\n",
              "      <td>A103</td>\n",
              "      <td>4</td>\n",
              "      <td>A122</td>\n",
              "      <td>45</td>\n",
              "      <td>A143</td>\n",
              "      <td>A153</td>\n",
              "      <td>1</td>\n",
              "      <td>A173</td>\n",
              "      <td>2</td>\n",
              "      <td>A191</td>\n",
              "      <td>A201</td>\n",
              "      <td>1</td>\n",
              "    </tr>\n",
              "    <tr>\n",
              "      <th>4</th>\n",
              "      <td>A11</td>\n",
              "      <td>24</td>\n",
              "      <td>A33</td>\n",
              "      <td>A40</td>\n",
              "      <td>4870</td>\n",
              "      <td>A61</td>\n",
              "      <td>A73</td>\n",
              "      <td>3</td>\n",
              "      <td>A93</td>\n",
              "      <td>A101</td>\n",
              "      <td>4</td>\n",
              "      <td>A124</td>\n",
              "      <td>53</td>\n",
              "      <td>A143</td>\n",
              "      <td>A153</td>\n",
              "      <td>2</td>\n",
              "      <td>A173</td>\n",
              "      <td>2</td>\n",
              "      <td>A191</td>\n",
              "      <td>A201</td>\n",
              "      <td>2</td>\n",
              "    </tr>\n",
              "    <tr>\n",
              "      <th>5</th>\n",
              "      <td>A14</td>\n",
              "      <td>36</td>\n",
              "      <td>A32</td>\n",
              "      <td>A46</td>\n",
              "      <td>9055</td>\n",
              "      <td>A65</td>\n",
              "      <td>A73</td>\n",
              "      <td>2</td>\n",
              "      <td>A93</td>\n",
              "      <td>A101</td>\n",
              "      <td>4</td>\n",
              "      <td>A124</td>\n",
              "      <td>35</td>\n",
              "      <td>A143</td>\n",
              "      <td>A153</td>\n",
              "      <td>1</td>\n",
              "      <td>A172</td>\n",
              "      <td>2</td>\n",
              "      <td>A192</td>\n",
              "      <td>A201</td>\n",
              "      <td>1</td>\n",
              "    </tr>\n",
              "    <tr>\n",
              "      <th>6</th>\n",
              "      <td>A14</td>\n",
              "      <td>24</td>\n",
              "      <td>A32</td>\n",
              "      <td>A42</td>\n",
              "      <td>2835</td>\n",
              "      <td>A63</td>\n",
              "      <td>A75</td>\n",
              "      <td>3</td>\n",
              "      <td>A93</td>\n",
              "      <td>A101</td>\n",
              "      <td>4</td>\n",
              "      <td>A122</td>\n",
              "      <td>53</td>\n",
              "      <td>A143</td>\n",
              "      <td>A152</td>\n",
              "      <td>1</td>\n",
              "      <td>A173</td>\n",
              "      <td>1</td>\n",
              "      <td>A191</td>\n",
              "      <td>A201</td>\n",
              "      <td>1</td>\n",
              "    </tr>\n",
              "    <tr>\n",
              "      <th>7</th>\n",
              "      <td>A12</td>\n",
              "      <td>36</td>\n",
              "      <td>A32</td>\n",
              "      <td>A41</td>\n",
              "      <td>6948</td>\n",
              "      <td>A61</td>\n",
              "      <td>A73</td>\n",
              "      <td>2</td>\n",
              "      <td>A93</td>\n",
              "      <td>A101</td>\n",
              "      <td>2</td>\n",
              "      <td>A123</td>\n",
              "      <td>35</td>\n",
              "      <td>A143</td>\n",
              "      <td>A151</td>\n",
              "      <td>1</td>\n",
              "      <td>A174</td>\n",
              "      <td>1</td>\n",
              "      <td>A192</td>\n",
              "      <td>A201</td>\n",
              "      <td>1</td>\n",
              "    </tr>\n",
              "    <tr>\n",
              "      <th>8</th>\n",
              "      <td>A14</td>\n",
              "      <td>12</td>\n",
              "      <td>A32</td>\n",
              "      <td>A43</td>\n",
              "      <td>3059</td>\n",
              "      <td>A64</td>\n",
              "      <td>A74</td>\n",
              "      <td>2</td>\n",
              "      <td>A91</td>\n",
              "      <td>A101</td>\n",
              "      <td>4</td>\n",
              "      <td>A121</td>\n",
              "      <td>61</td>\n",
              "      <td>A143</td>\n",
              "      <td>A152</td>\n",
              "      <td>1</td>\n",
              "      <td>A172</td>\n",
              "      <td>1</td>\n",
              "      <td>A191</td>\n",
              "      <td>A201</td>\n",
              "      <td>1</td>\n",
              "    </tr>\n",
              "    <tr>\n",
              "      <th>9</th>\n",
              "      <td>A12</td>\n",
              "      <td>30</td>\n",
              "      <td>A34</td>\n",
              "      <td>A40</td>\n",
              "      <td>5234</td>\n",
              "      <td>A61</td>\n",
              "      <td>A71</td>\n",
              "      <td>4</td>\n",
              "      <td>A94</td>\n",
              "      <td>A101</td>\n",
              "      <td>2</td>\n",
              "      <td>A123</td>\n",
              "      <td>28</td>\n",
              "      <td>A143</td>\n",
              "      <td>A152</td>\n",
              "      <td>2</td>\n",
              "      <td>A174</td>\n",
              "      <td>1</td>\n",
              "      <td>A191</td>\n",
              "      <td>A201</td>\n",
              "      <td>2</td>\n",
              "    </tr>\n",
              "  </tbody>\n",
              "</table>\n",
              "</div>"
            ],
            "text/plain": [
              "  existingchecking  duration  ... foreignworker classification\n",
              "0              A11         6  ...          A201              1\n",
              "1              A12        48  ...          A201              2\n",
              "2              A14        12  ...          A201              1\n",
              "3              A11        42  ...          A201              1\n",
              "4              A11        24  ...          A201              2\n",
              "5              A14        36  ...          A201              1\n",
              "6              A14        24  ...          A201              1\n",
              "7              A12        36  ...          A201              1\n",
              "8              A14        12  ...          A201              1\n",
              "9              A12        30  ...          A201              2\n",
              "\n",
              "[10 rows x 21 columns]"
            ]
          },
          "metadata": {},
          "execution_count": 11
        }
      ]
    },
    {
      "cell_type": "code",
      "metadata": {
        "id": "B3FPJfz33xkK",
        "_uuid": "224c2c3967abdccd1e4527c18024e08288ba1ca9",
        "collapsed": true,
        "jupyter": {
          "outputs_hidden": true
        },
        "trusted": true,
        "colab": {
          "base_uri": "https://localhost:8080/"
        },
        "outputId": "6c223346-c486-4bf6-e019-0f205494a1c9"
      },
      "source": [
        "# Binarize the y output for easier use of e.g. ROC curves -> 0 = 'bad' credit; 1 = 'good' credit\n",
        "data.classification.replace([1,2], [1,0], inplace=True)\n",
        "# Print number of 'good' credits (should be 700) and 'bad credits (should be 300)\n",
        "data.classification.value_counts()"
      ],
      "execution_count": null,
      "outputs": [
        {
          "output_type": "execute_result",
          "data": {
            "text/plain": [
              "1    700\n",
              "0    300\n",
              "Name: classification, dtype: int64"
            ]
          },
          "metadata": {},
          "execution_count": 12
        }
      ]
    },
    {
      "cell_type": "markdown",
      "metadata": {
        "id": "Tr1A8ZIHzuFw",
        "_uuid": "2d2774790c3f63cfc0eaa81517ce8f0eb4680478"
      },
      "source": [
        "### StandardScaler"
      ]
    },
    {
      "cell_type": "code",
      "metadata": {
        "id": "dKKUEqTo380x",
        "_uuid": "f03a76714ee08fe41f9b59aab287d68d481892b5",
        "collapsed": true,
        "jupyter": {
          "outputs_hidden": true
        },
        "trusted": true
      },
      "source": [
        "#numerical variables labels\n",
        "numvars = ['creditamount', 'duration', 'installmentrate', 'residencesince', 'age', \n",
        "           'existingcredits', 'peopleliable', 'classification']\n",
        "\n",
        "# Standardization\n",
        "numdata_std = pd.DataFrame(StandardScaler().fit_transform(data[numvars].drop(['classification'], axis=1)))"
      ],
      "execution_count": null,
      "outputs": []
    },
    {
      "cell_type": "markdown",
      "metadata": {
        "id": "X4ZzfmRy4M9I",
        "_uuid": "19dce81fc16194265c5d8942fa81c64934d60855"
      },
      "source": [
        "### Encoding Categorical Feature\n",
        "\n",
        "Labelencoding to transform categorical to numerical, Enables better Visualization than one hot encoding"
      ]
    },
    {
      "cell_type": "code",
      "metadata": {
        "id": "xSnUU8E_4IgX",
        "_uuid": "dab67695a0984af965a7dbea250276c4369b5875",
        "collapsed": true,
        "jupyter": {
          "outputs_hidden": true
        },
        "trusted": true,
        "colab": {
          "base_uri": "https://localhost:8080/"
        },
        "outputId": "7c283ebf-b2cc-4f9e-ed60-eab77a0bc2b9"
      },
      "source": [
        "from collections import defaultdict\n",
        "\n",
        "#categorical variables labels\n",
        "catvars = ['existingchecking', 'credithistory', 'purpose', 'savings', 'employmentsince',\n",
        "           'statussex', 'otherdebtors', 'property', 'otherinstallmentplans', 'housing', 'job', \n",
        "           'telephone', 'foreignworker']\n",
        "\n",
        "d = defaultdict(LabelEncoder)\n",
        "\n",
        "# Encoding the variable\n",
        "lecatdata = data[catvars].apply(lambda x: d[x.name].fit_transform(x))\n",
        "\n",
        "# print transformations\n",
        "for x in range(len(catvars)):\n",
        "    print(catvars[x],\": \", data[catvars[x]].unique())\n",
        "    print(catvars[x],\": \", lecatdata[catvars[x]].unique())\n",
        "\n",
        "#One hot encoding, create dummy variables for every category of every categorical variable\n",
        "dummyvars = pd.get_dummies(data[catvars])"
      ],
      "execution_count": null,
      "outputs": [
        {
          "output_type": "stream",
          "name": "stdout",
          "text": [
            "existingchecking :  ['A11' 'A12' 'A14' 'A13']\n",
            "existingchecking :  [0 1 3 2]\n",
            "credithistory :  ['A34' 'A32' 'A33' 'A30' 'A31']\n",
            "credithistory :  [4 2 3 0 1]\n",
            "purpose :  ['A43' 'A46' 'A42' 'A40' 'A41' 'A49' 'A44' 'A45' 'A410' 'A48']\n",
            "purpose :  [4 7 3 0 1 9 5 6 2 8]\n",
            "savings :  ['A65' 'A61' 'A63' 'A64' 'A62']\n",
            "savings :  [4 0 2 3 1]\n",
            "employmentsince :  ['A75' 'A73' 'A74' 'A71' 'A72']\n",
            "employmentsince :  [4 2 3 0 1]\n",
            "statussex :  ['A93' 'A92' 'A91' 'A94']\n",
            "statussex :  [2 1 0 3]\n",
            "otherdebtors :  ['A101' 'A103' 'A102']\n",
            "otherdebtors :  [0 2 1]\n",
            "property :  ['A121' 'A122' 'A124' 'A123']\n",
            "property :  [0 1 3 2]\n",
            "otherinstallmentplans :  ['A143' 'A141' 'A142']\n",
            "otherinstallmentplans :  [2 0 1]\n",
            "housing :  ['A152' 'A153' 'A151']\n",
            "housing :  [1 2 0]\n",
            "job :  ['A173' 'A172' 'A174' 'A171']\n",
            "job :  [2 1 3 0]\n",
            "telephone :  ['A192' 'A191']\n",
            "telephone :  [1 0]\n",
            "foreignworker :  ['A201' 'A202']\n",
            "foreignworker :  [0 1]\n"
          ]
        }
      ]
    },
    {
      "cell_type": "markdown",
      "metadata": {
        "id": "R3OBrifU4Zpb",
        "_uuid": "6a15498bdd45a6b2d0c88edbe3059744294396c6"
      },
      "source": [
        "### Concate Transformed Dataset\n",
        "append the dummy variable of the initial numerical variables numvars# append "
      ]
    },
    {
      "cell_type": "code",
      "metadata": {
        "id": "jkncbC1M4ZzD",
        "_uuid": "50738e0e4b89a8facc7c73581661f3110427d8e9",
        "collapsed": true,
        "jupyter": {
          "outputs_hidden": true
        },
        "trusted": true,
        "colab": {
          "base_uri": "https://localhost:8080/"
        },
        "outputId": "0e724cb6-6a1c-4e61-f158-9d0ba73f6157"
      },
      "source": [
        "data_clean = pd.concat([data[numvars], dummyvars], axis = 1)\n",
        "\n",
        "print(data_clean.shape)"
      ],
      "execution_count": null,
      "outputs": [
        {
          "output_type": "stream",
          "name": "stdout",
          "text": [
            "(1000, 62)\n"
          ]
        }
      ]
    },
    {
      "cell_type": "markdown",
      "metadata": {
        "id": "OI89YwDN4kXI",
        "_uuid": "53f8db9397eeb56dae3d735e712b4ba251a36a7b"
      },
      "source": [
        "### Split Training Dataset"
      ]
    },
    {
      "cell_type": "code",
      "metadata": {
        "id": "cP6puz7s4hQr",
        "_uuid": "5f1724b5dc93f592481eb1c608553d1c5fad2108",
        "collapsed": true,
        "jupyter": {
          "outputs_hidden": true
        },
        "trusted": true
      },
      "source": [
        "# Unscaled, unnormalized data\n",
        "X_clean = data_clean.drop('classification', axis=1)\n",
        "y_clean = data_clean['classification']\n",
        "X_train_clean, X_test_clean, y_train_clean, y_test_clean = train_test_split(X_clean,y_clean,test_size=0.2, random_state=1)"
      ],
      "execution_count": null,
      "outputs": []
    },
    {
      "cell_type": "code",
      "metadata": {
        "id": "MkEfVz7rgssR",
        "_uuid": "900557195bd519524bb3d46fb6b3d8d7344692dc",
        "collapsed": true,
        "jupyter": {
          "outputs_hidden": true
        },
        "trusted": true,
        "colab": {
          "base_uri": "https://localhost:8080/"
        },
        "outputId": "cf3e520a-ddb2-43b5-b34f-a4617afc8d75"
      },
      "source": [
        "X_train_clean.keys()"
      ],
      "execution_count": null,
      "outputs": [
        {
          "output_type": "execute_result",
          "data": {
            "text/plain": [
              "Index(['creditamount', 'duration', 'installmentrate', 'residencesince', 'age',\n",
              "       'existingcredits', 'peopleliable', 'existingchecking_A11',\n",
              "       'existingchecking_A12', 'existingchecking_A13', 'existingchecking_A14',\n",
              "       'credithistory_A30', 'credithistory_A31', 'credithistory_A32',\n",
              "       'credithistory_A33', 'credithistory_A34', 'purpose_A40', 'purpose_A41',\n",
              "       'purpose_A410', 'purpose_A42', 'purpose_A43', 'purpose_A44',\n",
              "       'purpose_A45', 'purpose_A46', 'purpose_A48', 'purpose_A49',\n",
              "       'savings_A61', 'savings_A62', 'savings_A63', 'savings_A64',\n",
              "       'savings_A65', 'employmentsince_A71', 'employmentsince_A72',\n",
              "       'employmentsince_A73', 'employmentsince_A74', 'employmentsince_A75',\n",
              "       'statussex_A91', 'statussex_A92', 'statussex_A93', 'statussex_A94',\n",
              "       'otherdebtors_A101', 'otherdebtors_A102', 'otherdebtors_A103',\n",
              "       'property_A121', 'property_A122', 'property_A123', 'property_A124',\n",
              "       'otherinstallmentplans_A141', 'otherinstallmentplans_A142',\n",
              "       'otherinstallmentplans_A143', 'housing_A151', 'housing_A152',\n",
              "       'housing_A153', 'job_A171', 'job_A172', 'job_A173', 'job_A174',\n",
              "       'telephone_A191', 'telephone_A192', 'foreignworker_A201',\n",
              "       'foreignworker_A202'],\n",
              "      dtype='object')"
            ]
          },
          "metadata": {},
          "execution_count": 17
        }
      ]
    },
    {
      "cell_type": "markdown",
      "metadata": {
        "id": "3LRHY79JAlbF",
        "_uuid": "924ad3aaf8f771939fafab52352598b158d4d9bb"
      },
      "source": [
        "### XGBoost  1a: Unbalance Dataset (Base Model: ROC_AUC:0.74)"
      ]
    },
    {
      "cell_type": "code",
      "metadata": {
        "id": "trS6OdaaEoKL",
        "_uuid": "03740b4aa1ec34f7874001fe00f36496a607050b",
        "collapsed": true,
        "jupyter": {
          "outputs_hidden": true
        },
        "trusted": true,
        "colab": {
          "base_uri": "https://localhost:8080/",
          "height": 641
        },
        "outputId": "096a2c05-9837-4c66-8b5e-6a14588944f4"
      },
      "source": [
        "params={}\n",
        "xgbclf(params, X_train_clean, y_train_clean, X_test_clean, y_test_clean)"
      ],
      "execution_count": null,
      "outputs": [
        {
          "output_type": "stream",
          "name": "stdout",
          "text": [
            "[0]\tvalidation_0-auc:0.761589\tvalidation_1-auc:0.692451\n",
            "Multiple eval metrics have been passed: 'validation_1-auc' will be used for early stopping.\n",
            "\n",
            "Will train until validation_1-auc hasn't improved in 100 rounds.\n",
            "[99]\tvalidation_0-auc:0.947201\tvalidation_1-auc:0.735064\n",
            "[[ 24  35]\n",
            " [ 13 128]]\n",
            "              precision    recall  f1-score   support\n",
            "\n",
            "           0       0.65      0.41      0.50        59\n",
            "           1       0.79      0.91      0.84       141\n",
            "\n",
            "    accuracy                           0.76       200\n",
            "   macro avg       0.72      0.66      0.67       200\n",
            "weighted avg       0.74      0.76      0.74       200\n",
            "\n",
            "\n",
            "\n",
            "Model Final Generalization Accuracy: 0.760000\n"
          ]
        },
        {
          "output_type": "display_data",
          "data": {
            "image/png": "[encoded data removed]",
            "text/plain": [
              "<Figure size 432x288 with 1 Axes>"
            ]
          },
          "metadata": {
            "needs_background": "light"
          }
        },
        {
          "output_type": "execute_result",
          "data": {
            "text/plain": [
              "XGBClassifier(n_estimators=51)"
            ]
          },
          "metadata": {},
          "execution_count": 18
        }
      ]
    },
    {
      "cell_type": "markdown",
      "metadata": {
        "_uuid": "10ebb57456ac4233b77b1ad284c15984aee73a1c",
        "id": "r0ORVWJVGxdq"
      },
      "source": [
        "### XGBoost  1b: Unbalance Dataset (ROC_AUC:0.79)"
      ]
    },
    {
      "cell_type": "code",
      "metadata": {
        "_uuid": "9b27e5641d57347d244ebc33a634c35a3a8e0947",
        "collapsed": true,
        "jupyter": {
          "outputs_hidden": true
        },
        "trusted": true,
        "id": "_z-s7sgxGxdq",
        "colab": {
          "base_uri": "https://localhost:8080/",
          "height": 709
        },
        "outputId": "183f9b13-e0ce-4c82-f164-8edabe3ae2d8"
      },
      "source": [
        "params={}\n",
        "\n",
        "params1={\n",
        "    'n_estimators':3000,\n",
        "    'objective': 'binary:logistic',\n",
        "    'learning_rate': 0.05,\n",
        "    'gamma':0.1,\n",
        "    'subsample':0.8,\n",
        "    'colsample_bytree':0.3,\n",
        "    'min_child_weight':3,\n",
        "    'max_depth':3,\n",
        "    #'seed':1024,\n",
        "    'n_jobs' : -1\n",
        "}\n",
        "\n",
        "params2={\n",
        "    'n_estimators':3000,\n",
        "    'objective': 'binary:logistic',\n",
        "    'learning_rate': 0.005,\n",
        "    #'gamma':0.01,\n",
        "    'subsample':0.555,\n",
        "    'colsample_bytree':0.7,\n",
        "    'min_child_weight':3,\n",
        "    'max_depth':8,\n",
        "    #'seed':1024,\n",
        "    'n_jobs' : -1\n",
        "}\n",
        "\n",
        "xgbclf(params2, X_train_clean, y_train_clean, X_test_clean, y_test_clean)"
      ],
      "execution_count": null,
      "outputs": [
        {
          "output_type": "stream",
          "name": "stdout",
          "text": [
            "[0]\tvalidation_0-auc:0.788664\tvalidation_1-auc:0.708258\n",
            "Multiple eval metrics have been passed: 'validation_1-auc' will be used for early stopping.\n",
            "\n",
            "Will train until validation_1-auc hasn't improved in 100 rounds.\n",
            "[100]\tvalidation_0-auc:0.893809\tvalidation_1-auc:0.780803\n",
            "Stopping. Best iteration:\n",
            "[9]\tvalidation_0-auc:0.873373\tvalidation_1-auc:0.785611\n",
            "\n",
            "[[ 23  36]\n",
            " [  5 136]]\n",
            "              precision    recall  f1-score   support\n",
            "\n",
            "           0       0.82      0.39      0.53        59\n",
            "           1       0.79      0.96      0.87       141\n",
            "\n",
            "    accuracy                           0.80       200\n",
            "   macro avg       0.81      0.68      0.70       200\n",
            "weighted avg       0.80      0.80      0.77       200\n",
            "\n",
            "\n",
            "\n",
            "Model Final Generalization Accuracy: 0.795000\n"
          ]
        },
        {
          "output_type": "display_data",
          "data": {
            "image/png": "[encoded data removed]",
            "text/plain": [
              "<Figure size 432x288 with 1 Axes>"
            ]
          },
          "metadata": {
            "needs_background": "light"
          }
        },
        {
          "output_type": "execute_result",
          "data": {
            "text/plain": [
              "XGBClassifier(colsample_bytree=0.7, learning_rate=0.005, max_depth=8,\n",
              "              min_child_weight=3, n_estimators=10, n_jobs=-1, subsample=0.555)"
            ]
          },
          "metadata": {},
          "execution_count": 19
        }
      ]
    },
    {
      "cell_type": "markdown",
      "metadata": {
        "id": "bFxEnRYVD_Xe",
        "_uuid": "b14d322c24858a4b4ec4656bd96eb3a1843802e1"
      },
      "source": [
        "<a id=\"Balanced Dataset\"></a> <br>\n",
        "# **3. Balanced Dataset** \n",
        "- XGBoost 2a: Balanced (Base Model: ROC_AUC:0.77)\n",
        "- XGBoost 2b: Balanced (ROC_AUC:0.80)"
      ]
    },
    {
      "cell_type": "code",
      "metadata": {
        "id": "5NEgnXdM1U0J",
        "_uuid": "bfba5a9de83536e8ee9635d98339dfd33b7d657a",
        "collapsed": true,
        "jupyter": {
          "outputs_hidden": true
        },
        "trusted": true,
        "colab": {
          "base_uri": "https://localhost:8080/",
          "height": 351
        },
        "outputId": "17e72fb6-a4bc-4cab-84fc-f62a82722ccc"
      },
      "source": [
        "\n",
        "from imblearn.over_sampling import SMOTE\n",
        "\n",
        "# Oversampling\n",
        "# http://contrib.scikit-learn.org/imbalanced-learn/auto_examples/combine/plot_smote_enn.html#sphx-glr-auto-examples-combine-plot-smote-enn-py\n",
        "\n",
        "# Apply SMOTE\n",
        "sm = SMOTE(ratio='auto')\n",
        "X_train_clean_res, y_train_clean_res = sm.fit_sample(X_train_clean, y_train_clean)\n",
        "\n",
        "# Print number of 'good' credits and 'bad credits, should be fairly balanced now\n",
        "print(\"Before/After clean\")\n",
        "unique, counts = np.unique(y_train_clean, return_counts=True)\n",
        "print(dict(zip(unique, counts)))\n",
        "unique, counts = np.unique(y_train_clean_res, return_counts=True)\n",
        "print(dict(zip(unique, counts)))"
      ],
      "execution_count": null,
      "outputs": [
        {
          "output_type": "error",
          "ename": "TypeError",
          "evalue": "ignored",
          "traceback": [
            "\u001b[0;31m---------------------------------------------------------------------------\u001b[0m",
            "\u001b[0;31mTypeError\u001b[0m                                 Traceback (most recent call last)",
            "\u001b[0;32m<ipython-input-20-897051794426>\u001b[0m in \u001b[0;36m<module>\u001b[0;34m()\u001b[0m\n\u001b[1;32m      6\u001b[0m \u001b[0;34m\u001b[0m\u001b[0m\n\u001b[1;32m      7\u001b[0m \u001b[0;31m# Apply SMOTE\u001b[0m\u001b[0;34m\u001b[0m\u001b[0;34m\u001b[0m\u001b[0;34m\u001b[0m\u001b[0m\n\u001b[0;32m----> 8\u001b[0;31m \u001b[0msm\u001b[0m \u001b[0;34m=\u001b[0m \u001b[0mSMOTE\u001b[0m\u001b[0;34m(\u001b[0m\u001b[0mratio\u001b[0m\u001b[0;34m=\u001b[0m\u001b[0;34m'auto'\u001b[0m\u001b[0;34m)\u001b[0m\u001b[0;34m\u001b[0m\u001b[0;34m\u001b[0m\u001b[0m\n\u001b[0m\u001b[1;32m      9\u001b[0m \u001b[0mX_train_clean_res\u001b[0m\u001b[0;34m,\u001b[0m \u001b[0my_train_clean_res\u001b[0m \u001b[0;34m=\u001b[0m \u001b[0msm\u001b[0m\u001b[0;34m.\u001b[0m\u001b[0mfit_sample\u001b[0m\u001b[0;34m(\u001b[0m\u001b[0mX_train_clean\u001b[0m\u001b[0;34m,\u001b[0m \u001b[0my_train_clean\u001b[0m\u001b[0;34m)\u001b[0m\u001b[0;34m\u001b[0m\u001b[0;34m\u001b[0m\u001b[0m\n\u001b[1;32m     10\u001b[0m \u001b[0;34m\u001b[0m\u001b[0m\n",
            "\u001b[0;32m/usr/local/lib/python3.7/dist-packages/imblearn/utils/_validation.py\u001b[0m in \u001b[0;36minner_f\u001b[0;34m(*args, **kwargs)\u001b[0m\n\u001b[1;32m    592\u001b[0m             )\n\u001b[1;32m    593\u001b[0m         \u001b[0mkwargs\u001b[0m\u001b[0;34m.\u001b[0m\u001b[0mupdate\u001b[0m\u001b[0;34m(\u001b[0m\u001b[0;34m{\u001b[0m\u001b[0mk\u001b[0m\u001b[0;34m:\u001b[0m \u001b[0marg\u001b[0m \u001b[0;32mfor\u001b[0m \u001b[0mk\u001b[0m\u001b[0;34m,\u001b[0m \u001b[0marg\u001b[0m \u001b[0;32min\u001b[0m \u001b[0mzip\u001b[0m\u001b[0;34m(\u001b[0m\u001b[0msig\u001b[0m\u001b[0;34m.\u001b[0m\u001b[0mparameters\u001b[0m\u001b[0;34m,\u001b[0m \u001b[0margs\u001b[0m\u001b[0;34m)\u001b[0m\u001b[0;34m}\u001b[0m\u001b[0;34m)\u001b[0m\u001b[0;34m\u001b[0m\u001b[0;34m\u001b[0m\u001b[0m\n\u001b[0;32m--> 594\u001b[0;31m         \u001b[0;32mreturn\u001b[0m \u001b[0mf\u001b[0m\u001b[0;34m(\u001b[0m\u001b[0;34m**\u001b[0m\u001b[0mkwargs\u001b[0m\u001b[0;34m)\u001b[0m\u001b[0;34m\u001b[0m\u001b[0;34m\u001b[0m\u001b[0m\n\u001b[0m\u001b[1;32m    595\u001b[0m \u001b[0;34m\u001b[0m\u001b[0m\n\u001b[1;32m    596\u001b[0m     \u001b[0;32mreturn\u001b[0m \u001b[0minner_f\u001b[0m\u001b[0;34m\u001b[0m\u001b[0;34m\u001b[0m\u001b[0m\n",
            "\u001b[0;31mTypeError\u001b[0m: __init__() got an unexpected keyword argument 'ratio'"
          ]
        }
      ]
    },
    {
      "cell_type": "code",
      "metadata": {
        "id": "h2-muneU1U9H",
        "_uuid": "b8a7a3c79685af31aecb2ade360415f92a30460b",
        "collapsed": true,
        "jupyter": {
          "outputs_hidden": true
        },
        "trusted": true
      },
      "source": [
        "#Great, before we do anything else, let's split the data into train/test.\n",
        "X_train_clean_res = pd.DataFrame(X_train_clean_res, columns=X_train_clean.keys())\n",
        "#y_train_clean_res = pd.DataFrame(y_train_clean_res)"
      ],
      "execution_count": null,
      "outputs": []
    },
    {
      "cell_type": "code",
      "metadata": {
        "id": "C-yIxVQkUZyW",
        "_uuid": "3a8b147901159dc4ac09fa2efd4d5d9578f97b99",
        "collapsed": true,
        "jupyter": {
          "outputs_hidden": true
        },
        "trusted": true
      },
      "source": [
        "print(np.shape(X_train_clean_res))\n",
        "print(np.shape(y_train_clean_res))\n",
        "print(np.shape(X_test_clean)) \n",
        "print(np.shape(y_test_clean))"
      ],
      "execution_count": null,
      "outputs": []
    },
    {
      "cell_type": "markdown",
      "metadata": {
        "_uuid": "04626b0c29b5a77a013fedfee30b55b4d92b684b",
        "id": "WRSMLCKaGxdr"
      },
      "source": [
        "### XGBoost 2a: Balanced (Base Model: ROC_AUC:0.77)"
      ]
    },
    {
      "cell_type": "code",
      "metadata": {
        "id": "NQ5P5oG0IwIS",
        "_uuid": "ca524e248c28f147289605a30f68b11ecabe4559",
        "collapsed": true,
        "jupyter": {
          "outputs_hidden": true
        },
        "trusted": true
      },
      "source": [
        "#BASE MODEL\n",
        "params={}\n",
        "xgbclf(params,X_train_clean_res, y_train_clean_res,X_test_clean, y_test_clean)"
      ],
      "execution_count": null,
      "outputs": []
    },
    {
      "cell_type": "markdown",
      "metadata": {
        "id": "RjlSw9En1P4p",
        "_uuid": "71a3040a7d73bfa3aba166e10d804f9257d8bde8"
      },
      "source": [
        "### XGBoost 2b: Balanced (ROC_AUC:0.80)"
      ]
    },
    {
      "cell_type": "code",
      "metadata": {
        "id": "x9PHpLlJoNFz",
        "_uuid": "11855f908fb13b97d120ea375c75ab13885d9e43",
        "collapsed": true,
        "jupyter": {
          "outputs_hidden": true
        },
        "trusted": true,
        "colab": {
          "base_uri": "https://localhost:8080/",
          "height": 232
        },
        "outputId": "5ef6429c-30ed-4118-d5d9-2dbe3559ed82"
      },
      "source": [
        "params = {}\n",
        "\n",
        "params1={\n",
        "    'n_estimators':3000,\n",
        "    'objective': 'binary:logistic',\n",
        "    'learning_rate': 0.05,\n",
        "    'gamma':0.1,\n",
        "    'subsample':0.8,\n",
        "    'colsample_bytree':0.3,\n",
        "    'min_child_weight':3,\n",
        "    'max_depth':3,\n",
        "    #'seed':1024,\n",
        "    'n_jobs' : -1\n",
        "}\n",
        "\n",
        "params2={\n",
        "    'n_estimators':3000,\n",
        "    'objective': 'binary:logistic',\n",
        "    'learning_rate': 0.005,\n",
        "    #'gamma':0.01,\n",
        "    'subsample':0.555,\n",
        "    'colsample_bytree':0.7,\n",
        "    'min_child_weight':3,\n",
        "    'max_depth':8,\n",
        "    #'seed':1024,\n",
        "    'n_jobs' : -1\n",
        "}\n",
        "\n",
        "#xgbclf(params, X_train, y_train,X_test,y_test)\n",
        "model = xgbclf(params2,X_train_clean_res, y_train_clean_res,X_test_clean, y_test_clean)\n",
        "model\n",
        "#plot_featureImportance(model, X_train_clean_res.keys())"
      ],
      "execution_count": null,
      "outputs": [
        {
          "output_type": "error",
          "ename": "NameError",
          "evalue": "ignored",
          "traceback": [
            "\u001b[0;31m---------------------------------------------------------------------------\u001b[0m",
            "\u001b[0;31mNameError\u001b[0m                                 Traceback (most recent call last)",
            "\u001b[0;32m<ipython-input-21-f137958ae79a>\u001b[0m in \u001b[0;36m<module>\u001b[0;34m()\u001b[0m\n\u001b[1;32m     28\u001b[0m \u001b[0;34m\u001b[0m\u001b[0m\n\u001b[1;32m     29\u001b[0m \u001b[0;31m#xgbclf(params, X_train, y_train,X_test,y_test)\u001b[0m\u001b[0;34m\u001b[0m\u001b[0;34m\u001b[0m\u001b[0;34m\u001b[0m\u001b[0m\n\u001b[0;32m---> 30\u001b[0;31m \u001b[0mmodel\u001b[0m \u001b[0;34m=\u001b[0m \u001b[0mxgbclf\u001b[0m\u001b[0;34m(\u001b[0m\u001b[0mparams2\u001b[0m\u001b[0;34m,\u001b[0m\u001b[0mX_train_clean_res\u001b[0m\u001b[0;34m,\u001b[0m \u001b[0my_train_clean_res\u001b[0m\u001b[0;34m,\u001b[0m\u001b[0mX_test_clean\u001b[0m\u001b[0;34m,\u001b[0m \u001b[0my_test_clean\u001b[0m\u001b[0;34m)\u001b[0m\u001b[0;34m\u001b[0m\u001b[0;34m\u001b[0m\u001b[0m\n\u001b[0m\u001b[1;32m     31\u001b[0m \u001b[0mmodel\u001b[0m\u001b[0;34m\u001b[0m\u001b[0;34m\u001b[0m\u001b[0m\n\u001b[1;32m     32\u001b[0m \u001b[0;31m#plot_featureImportance(model, X_train_clean_res.keys())\u001b[0m\u001b[0;34m\u001b[0m\u001b[0;34m\u001b[0m\u001b[0;34m\u001b[0m\u001b[0m\n",
            "\u001b[0;31mNameError\u001b[0m: name 'X_train_clean_res' is not defined"
          ]
        }
      ]
    },
    {
      "cell_type": "markdown",
      "metadata": {
        "id": "T0uGUXyUa4h_",
        "_uuid": "518227609cbeb12fa67390bd5a097ddc7bd2f71a"
      },
      "source": [
        "# 4.  Feature Selection\n",
        "- XGBoost3 (Base Model:ROC_AUC:0.73)\n",
        "- GridSearchCV (ROC_AUC:0.70)"
      ]
    },
    {
      "cell_type": "code",
      "metadata": {
        "id": "vOISYxySN4qJ",
        "_uuid": "c9da497ba8de093a285cf4ffbec4535219c74466",
        "collapsed": true,
        "jupyter": {
          "outputs_hidden": true
        },
        "trusted": true,
        "colab": {
          "base_uri": "https://localhost:8080/",
          "height": 232
        },
        "outputId": "4fa6eb65-81f5-4ee0-b207-771f12f3938b"
      },
      "source": [
        "#model = xgbclf(params1,X_train_clean_res[importance_col], y_train_clean_res,X_test_clean[importance_col], y_test_clean)\n",
        "\n",
        "importances = model.feature_importances_\n",
        "importance_frame = pd.DataFrame({'Importance': list(importances), 'Feature': list(X_train_clean_res.keys())})\n",
        "importance_frame.sort_values(by = 'Importance', inplace = True, ascending=False)\n",
        "importance_col = importance_frame.Feature.head(10).values"
      ],
      "execution_count": null,
      "outputs": [
        {
          "output_type": "error",
          "ename": "NameError",
          "evalue": "ignored",
          "traceback": [
            "\u001b[0;31m---------------------------------------------------------------------------\u001b[0m",
            "\u001b[0;31mNameError\u001b[0m                                 Traceback (most recent call last)",
            "\u001b[0;32m<ipython-input-22-c1f94d053136>\u001b[0m in \u001b[0;36m<module>\u001b[0;34m()\u001b[0m\n\u001b[1;32m      1\u001b[0m \u001b[0;31m#model = xgbclf(params1,X_train_clean_res[importance_col], y_train_clean_res,X_test_clean[importance_col], y_test_clean)\u001b[0m\u001b[0;34m\u001b[0m\u001b[0;34m\u001b[0m\u001b[0;34m\u001b[0m\u001b[0m\n\u001b[1;32m      2\u001b[0m \u001b[0;34m\u001b[0m\u001b[0m\n\u001b[0;32m----> 3\u001b[0;31m \u001b[0mimportances\u001b[0m \u001b[0;34m=\u001b[0m \u001b[0mmodel\u001b[0m\u001b[0;34m.\u001b[0m\u001b[0mfeature_importances_\u001b[0m\u001b[0;34m\u001b[0m\u001b[0;34m\u001b[0m\u001b[0m\n\u001b[0m\u001b[1;32m      4\u001b[0m \u001b[0mimportance_frame\u001b[0m \u001b[0;34m=\u001b[0m \u001b[0mpd\u001b[0m\u001b[0;34m.\u001b[0m\u001b[0mDataFrame\u001b[0m\u001b[0;34m(\u001b[0m\u001b[0;34m{\u001b[0m\u001b[0;34m'Importance'\u001b[0m\u001b[0;34m:\u001b[0m \u001b[0mlist\u001b[0m\u001b[0;34m(\u001b[0m\u001b[0mimportances\u001b[0m\u001b[0;34m)\u001b[0m\u001b[0;34m,\u001b[0m \u001b[0;34m'Feature'\u001b[0m\u001b[0;34m:\u001b[0m \u001b[0mlist\u001b[0m\u001b[0;34m(\u001b[0m\u001b[0mX_train_clean_res\u001b[0m\u001b[0;34m.\u001b[0m\u001b[0mkeys\u001b[0m\u001b[0;34m(\u001b[0m\u001b[0;34m)\u001b[0m\u001b[0;34m)\u001b[0m\u001b[0;34m}\u001b[0m\u001b[0;34m)\u001b[0m\u001b[0;34m\u001b[0m\u001b[0;34m\u001b[0m\u001b[0m\n\u001b[1;32m      5\u001b[0m \u001b[0mimportance_frame\u001b[0m\u001b[0;34m.\u001b[0m\u001b[0msort_values\u001b[0m\u001b[0;34m(\u001b[0m\u001b[0mby\u001b[0m \u001b[0;34m=\u001b[0m \u001b[0;34m'Importance'\u001b[0m\u001b[0;34m,\u001b[0m \u001b[0minplace\u001b[0m \u001b[0;34m=\u001b[0m \u001b[0;32mTrue\u001b[0m\u001b[0;34m,\u001b[0m \u001b[0mascending\u001b[0m\u001b[0;34m=\u001b[0m\u001b[0;32mFalse\u001b[0m\u001b[0;34m)\u001b[0m\u001b[0;34m\u001b[0m\u001b[0;34m\u001b[0m\u001b[0m\n",
            "\u001b[0;31mNameError\u001b[0m: name 'model' is not defined"
          ]
        }
      ]
    },
    {
      "cell_type": "markdown",
      "metadata": {
        "_uuid": "a2ce51442a79c7a28776f90153e4107737183abd",
        "id": "vHrYXZYWGxds"
      },
      "source": [
        "### XGBoost3 (Base Model:ROC_AUC:0.73)"
      ]
    },
    {
      "cell_type": "code",
      "metadata": {
        "id": "LwqK7dpAX7nn",
        "_uuid": "17ef3ab68a22b1af2a31b58e0a452a72e0db19bd",
        "collapsed": true,
        "jupyter": {
          "outputs_hidden": true
        },
        "trusted": true,
        "colab": {
          "base_uri": "https://localhost:8080/",
          "height": 198
        },
        "outputId": "5ddf4a42-599f-4324-bb5d-5dc0a712faa0"
      },
      "source": [
        "params = {}\n",
        "\n",
        "params1={\n",
        "    'n_estimators':3000,\n",
        "    'objective': 'binary:logistic',\n",
        "    'learning_rate': 0.01,\n",
        "    #'gamma':0.1,\n",
        "    #'subsample':0.8,\n",
        "    #'colsample_bytree':0.3,\n",
        "    #'min_child_weight':3,\n",
        "    'max_depth':3,\n",
        "    #'seed':1024,\n",
        "    'n_jobs' : -1\n",
        "}\n",
        "\n",
        "xgbclf(params,X_train_clean_res[importance_col], y_train_clean_res,X_test_clean[importance_col], y_test_clean)"
      ],
      "execution_count": null,
      "outputs": [
        {
          "output_type": "error",
          "ename": "NameError",
          "evalue": "ignored",
          "traceback": [
            "\u001b[0;31m---------------------------------------------------------------------------\u001b[0m",
            "\u001b[0;31mNameError\u001b[0m                                 Traceback (most recent call last)",
            "\u001b[0;32m<ipython-input-23-668b583b57cb>\u001b[0m in \u001b[0;36m<module>\u001b[0;34m()\u001b[0m\n\u001b[1;32m     14\u001b[0m }\n\u001b[1;32m     15\u001b[0m \u001b[0;34m\u001b[0m\u001b[0m\n\u001b[0;32m---> 16\u001b[0;31m \u001b[0mxgbclf\u001b[0m\u001b[0;34m(\u001b[0m\u001b[0mparams\u001b[0m\u001b[0;34m,\u001b[0m\u001b[0mX_train_clean_res\u001b[0m\u001b[0;34m[\u001b[0m\u001b[0mimportance_col\u001b[0m\u001b[0;34m]\u001b[0m\u001b[0;34m,\u001b[0m \u001b[0my_train_clean_res\u001b[0m\u001b[0;34m,\u001b[0m\u001b[0mX_test_clean\u001b[0m\u001b[0;34m[\u001b[0m\u001b[0mimportance_col\u001b[0m\u001b[0;34m]\u001b[0m\u001b[0;34m,\u001b[0m \u001b[0my_test_clean\u001b[0m\u001b[0;34m)\u001b[0m\u001b[0;34m\u001b[0m\u001b[0;34m\u001b[0m\u001b[0m\n\u001b[0m",
            "\u001b[0;31mNameError\u001b[0m: name 'X_train_clean_res' is not defined"
          ]
        }
      ]
    },
    {
      "cell_type": "markdown",
      "metadata": {
        "id": "Wxgbu6HbrstB",
        "_uuid": "f8037e33ee37292b23413304ceff57026c6b49e1"
      },
      "source": [
        "### GridSearchCV (ROC_AUC:0.70)"
      ]
    },
    {
      "cell_type": "code",
      "metadata": {
        "id": "m7lf_As9oUvh",
        "_uuid": "105346b26c0fe9e4cba1b68b6194be9d70b50701",
        "collapsed": true,
        "jupyter": {
          "outputs_hidden": true
        },
        "trusted": true,
        "colab": {
          "base_uri": "https://localhost:8080/",
          "height": 368
        },
        "outputId": "fa66ef8b-722c-4082-8eb3-44b8098bb86d"
      },
      "source": [
        "from sklearn.grid_search import GridSearchCV\n",
        "\n",
        "print('XGBoost with grid search')\n",
        "# play with these params\n",
        "params={\n",
        "    'learning_rate': [0.01, 0.02],\n",
        "    'max_depth': [3], # 5 is good but takes too long in kaggle env\n",
        "    #'subsample': [0.6], #[0.4,0.5,0.6,0.7,0.8,0.9,1.0],\n",
        "    #'colsample_bytree': [0.5], #[0.5,0.6,0.7,0.8],\n",
        "    'n_estimators': [50, 100, 200, 300, 400, 500]\n",
        "    #'reg_alpha': [0.03] #[0.01, 0.02, 0.03, 0.04]\n",
        "}\n",
        "\n",
        "\n",
        "xgb_clf = xgb.XGBClassifier()\n",
        "\n",
        "rs = GridSearchCV(xgb_clf,\n",
        "                  params,\n",
        "                  cv=2,\n",
        "                  scoring=\"roc_auc\",\n",
        "                  n_jobs=1,\n",
        "                  verbose=False)\n",
        "rs.fit(X_train_clean_res[importance_col], y_train_clean_res)\n",
        "best_est = rs.best_estimator_\n",
        "print(best_est)\n",
        "print(rs.best_score_)\n",
        "\n",
        "# Roc AUC with test data\n",
        "print(rs.score(X_test_clean[importance_col],y_test_clean))\n",
        "\n",
        "# Roc AUC with all train data\n",
        "#y_pred_proba = best_est.predict_proba(X_test_clean[importance_col])[:,1]\n",
        "#print(\"Roc AUC: \", roc_auc_score(y_test_clean, y_pred_proba))\n",
        "\n",
        "#xgbclf(params1,X_train_clean_res[importance_col], y_train_clean_res,X_test_clean[importance_col], y_test_clean)"
      ],
      "execution_count": null,
      "outputs": [
        {
          "output_type": "error",
          "ename": "ModuleNotFoundError",
          "evalue": "ignored",
          "traceback": [
            "\u001b[0;31m---------------------------------------------------------------------------\u001b[0m",
            "\u001b[0;31mModuleNotFoundError\u001b[0m                       Traceback (most recent call last)",
            "\u001b[0;32m<ipython-input-24-f0435b05d591>\u001b[0m in \u001b[0;36m<module>\u001b[0;34m()\u001b[0m\n\u001b[0;32m----> 1\u001b[0;31m \u001b[0;32mfrom\u001b[0m \u001b[0msklearn\u001b[0m\u001b[0;34m.\u001b[0m\u001b[0mgrid_search\u001b[0m \u001b[0;32mimport\u001b[0m \u001b[0mGridSearchCV\u001b[0m\u001b[0;34m\u001b[0m\u001b[0;34m\u001b[0m\u001b[0m\n\u001b[0m\u001b[1;32m      2\u001b[0m \u001b[0;34m\u001b[0m\u001b[0m\n\u001b[1;32m      3\u001b[0m \u001b[0mprint\u001b[0m\u001b[0;34m(\u001b[0m\u001b[0;34m'XGBoost with grid search'\u001b[0m\u001b[0;34m)\u001b[0m\u001b[0;34m\u001b[0m\u001b[0;34m\u001b[0m\u001b[0m\n\u001b[1;32m      4\u001b[0m \u001b[0;31m# play with these params\u001b[0m\u001b[0;34m\u001b[0m\u001b[0;34m\u001b[0m\u001b[0;34m\u001b[0m\u001b[0m\n\u001b[1;32m      5\u001b[0m params={\n",
            "\u001b[0;31mModuleNotFoundError\u001b[0m: No module named 'sklearn.grid_search'",
            "",
            "\u001b[0;31m---------------------------------------------------------------------------\u001b[0;32m\nNOTE: If your import is failing due to a missing package, you can\nmanually install dependencies using either !pip or !apt.\n\nTo view examples of installing some common dependencies, click the\n\"Open Examples\" button below.\n\u001b[0;31m---------------------------------------------------------------------------\u001b[0m\n"
          ],
          "errorDetails": {
            "actions": [
              {
                "action": "open_url",
                "actionText": "Open Examples",
                "url": "/notebooks/snippets/importing_libraries.ipynb"
              }
            ]
          }
        }
      ]
    },
    {
      "cell_type": "markdown",
      "metadata": {
        "_uuid": "d2fe0b7ea9b605569bdfa60b39faf7d6965bfde0",
        "id": "tHvB3jWOGxdt"
      },
      "source": [
        "<a id=\"Others\"></a> <br>\n",
        "# 5. Others\n",
        "- Lighgbm (ROC_AUC:0.73)\n",
        "- LogisticRegression (ROC_AUC:0.77)\n",
        "- RandomForestClassifier (ROC_AUC:0.69)\n",
        "- ExtraTreesClassifier (ROC_AUC:0.74)\n",
        "- DecisionTreeClassifier (ROC_AUC:0.64)\n",
        "- GradientBoostingClassifier (ROC_AUC:0.76)\n",
        "- AdaBoostClassifier (ROC_AUC:0.72)"
      ]
    },
    {
      "cell_type": "markdown",
      "metadata": {
        "id": "Pce2PcrQryuY",
        "_uuid": "360450a8797f752a9d9b09a4c4a16d72dbe0b071"
      },
      "source": [
        "### Lighgbm (ROC_AUC:0.73)"
      ]
    },
    {
      "cell_type": "code",
      "metadata": {
        "_uuid": "432aa50546f660ed1ae9b4ab064bbea7b6f54e03",
        "collapsed": true,
        "jupyter": {
          "outputs_hidden": true
        },
        "trusted": true,
        "id": "ECioDck2Gxdt",
        "colab": {
          "base_uri": "https://localhost:8080/",
          "height": 198
        },
        "outputId": "c098da8a-1519-4a2b-ce83-4e809b621171"
      },
      "source": [
        "import warnings\n",
        "warnings.filterwarnings(\"ignore\", category=DeprecationWarning) \n",
        "\n",
        "import lightgbm as lgb\n",
        "\n",
        "# fit, train and cross validate Decision Tree with training and test data \n",
        "def lgbclf(X_train, y_train,X_test, y_test):\n",
        "\n",
        "    model = lgb.LGBMClassifier().fit(X_train, y_train)\n",
        "    print(model,'\\n')\n",
        "\n",
        "    # Predict target variables y for test data\n",
        "    y_pred = model.predict_proba(X_test)[:,1]\n",
        "\n",
        "    # Get Cross Validation and Confusion matrix\n",
        "    #get_eval(model, X_train, y_train,y_test,y_pred)\n",
        "    #get_eval2(model, X_train, y_train,X_test, y_test,y_pred)\n",
        "    get_roc (y_test,y_pred)\n",
        "    return\n",
        "\n",
        "# Logistic Regression\n",
        "#lgbclf(X_train, y_train,X_test,y_test)\n",
        "lgbclf(X_train_clean_res, y_train_clean_res,X_test_clean, y_test_clean)"
      ],
      "execution_count": null,
      "outputs": [
        {
          "output_type": "error",
          "ename": "NameError",
          "evalue": "ignored",
          "traceback": [
            "\u001b[0;31m---------------------------------------------------------------------------\u001b[0m",
            "\u001b[0;31mNameError\u001b[0m                                 Traceback (most recent call last)",
            "\u001b[0;32m<ipython-input-25-c40676360b24>\u001b[0m in \u001b[0;36m<module>\u001b[0;34m()\u001b[0m\n\u001b[1;32m     21\u001b[0m \u001b[0;31m# Logistic Regression\u001b[0m\u001b[0;34m\u001b[0m\u001b[0;34m\u001b[0m\u001b[0;34m\u001b[0m\u001b[0m\n\u001b[1;32m     22\u001b[0m \u001b[0;31m#lgbclf(X_train, y_train,X_test,y_test)\u001b[0m\u001b[0;34m\u001b[0m\u001b[0;34m\u001b[0m\u001b[0;34m\u001b[0m\u001b[0m\n\u001b[0;32m---> 23\u001b[0;31m \u001b[0mlgbclf\u001b[0m\u001b[0;34m(\u001b[0m\u001b[0mX_train_clean_res\u001b[0m\u001b[0;34m,\u001b[0m \u001b[0my_train_clean_res\u001b[0m\u001b[0;34m,\u001b[0m\u001b[0mX_test_clean\u001b[0m\u001b[0;34m,\u001b[0m \u001b[0my_test_clean\u001b[0m\u001b[0;34m)\u001b[0m\u001b[0;34m\u001b[0m\u001b[0;34m\u001b[0m\u001b[0m\n\u001b[0m",
            "\u001b[0;31mNameError\u001b[0m: name 'X_train_clean_res' is not defined"
          ]
        }
      ]
    },
    {
      "cell_type": "markdown",
      "metadata": {
        "id": "tzhgWR1hry3s",
        "_uuid": "318b9364794e6f1e2da5550bf961885bdccc5825"
      },
      "source": [
        "### LogisticRegression (ROC_AUC:0.77)"
      ]
    },
    {
      "cell_type": "code",
      "metadata": {
        "_uuid": "e0b612a0bab5b2f06e038f37b35868716f97bd00",
        "collapsed": true,
        "jupyter": {
          "outputs_hidden": true
        },
        "trusted": true,
        "id": "hxoCSN9WGxdt",
        "colab": {
          "base_uri": "https://localhost:8080/",
          "height": 198
        },
        "outputId": "e5434f9a-f811-4efd-856a-5273b01967b9"
      },
      "source": [
        "from sklearn.linear_model import LogisticRegression\n",
        "\n",
        "# fit, train and cross validate Decision Tree with training and test data \n",
        "def logregclf(X_train, y_train,X_test, y_test):\n",
        "    print(\"LogisticRegression\")\n",
        "    model = LogisticRegression().fit(X_train, y_train)\n",
        "    print(model,'\\n')\n",
        "\n",
        "    # Predict target variables y for test data\n",
        "    y_pred = model.predict_proba(X_test)[:,1]\n",
        "\n",
        "    # Get Cross Validation and Confusion matrix\n",
        "    #get_eval(model, X_train, y_train,y_test,y_pred)\n",
        "    #get_eval2(model, X_train, y_train,X_test, y_test,y_pred)\n",
        "    get_roc (y_test,y_pred)\n",
        "    return\n",
        "\n",
        "# Logistic Regression\n",
        "#logregclf(X_train, y_train,X_test,y_test)\n",
        "logregclf(X_train_clean_res, y_train_clean_res,X_test_clean, y_test_clean)"
      ],
      "execution_count": null,
      "outputs": [
        {
          "output_type": "error",
          "ename": "NameError",
          "evalue": "ignored",
          "traceback": [
            "\u001b[0;31m---------------------------------------------------------------------------\u001b[0m",
            "\u001b[0;31mNameError\u001b[0m                                 Traceback (most recent call last)",
            "\u001b[0;32m<ipython-input-26-4e04ee2cdd81>\u001b[0m in \u001b[0;36m<module>\u001b[0;34m()\u001b[0m\n\u001b[1;32m     18\u001b[0m \u001b[0;31m# Logistic Regression\u001b[0m\u001b[0;34m\u001b[0m\u001b[0;34m\u001b[0m\u001b[0;34m\u001b[0m\u001b[0m\n\u001b[1;32m     19\u001b[0m \u001b[0;31m#logregclf(X_train, y_train,X_test,y_test)\u001b[0m\u001b[0;34m\u001b[0m\u001b[0;34m\u001b[0m\u001b[0;34m\u001b[0m\u001b[0m\n\u001b[0;32m---> 20\u001b[0;31m \u001b[0mlogregclf\u001b[0m\u001b[0;34m(\u001b[0m\u001b[0mX_train_clean_res\u001b[0m\u001b[0;34m,\u001b[0m \u001b[0my_train_clean_res\u001b[0m\u001b[0;34m,\u001b[0m\u001b[0mX_test_clean\u001b[0m\u001b[0;34m,\u001b[0m \u001b[0my_test_clean\u001b[0m\u001b[0;34m)\u001b[0m\u001b[0;34m\u001b[0m\u001b[0;34m\u001b[0m\u001b[0m\n\u001b[0m",
            "\u001b[0;31mNameError\u001b[0m: name 'X_train_clean_res' is not defined"
          ]
        }
      ]
    },
    {
      "cell_type": "markdown",
      "metadata": {
        "_uuid": "e95e51b587054a97daf75be89cd308b615feb8ca",
        "id": "2JZmmu7PGxdu"
      },
      "source": [
        "### RandomForestClassifier (ROC_AUC:0.69)"
      ]
    },
    {
      "cell_type": "code",
      "metadata": {
        "_uuid": "4b9f601bd07ff3253da4d89352ebd785fc3eeac2",
        "collapsed": true,
        "jupyter": {
          "outputs_hidden": true
        },
        "trusted": true,
        "id": "XTpYB-WvGxdu",
        "colab": {
          "base_uri": "https://localhost:8080/",
          "height": 198
        },
        "outputId": "b8c5a2c1-9b67-4b60-b58b-6ecc58457874"
      },
      "source": [
        "from sklearn.ensemble import RandomForestClassifier \n",
        "\n",
        "# fit, train and cross validate Decision Tree with training and test data \n",
        "def randomforestclf(X_train, y_train,X_test, y_test):\n",
        "    print(\"RandomForestClassifier\")\n",
        "    randomforest = RandomForestClassifier().fit(X_train, y_train)\n",
        "    print(randomforest,'\\n')\n",
        "    \n",
        "    # Predict target variables y for test data\n",
        "    y_pred = randomforest.predict_proba(X_test)[:,1]\n",
        "\n",
        "    # Get Cross Validation and Confusion matrix\n",
        "    #get_eval(randomforest, X_train, y_train,y_test,y_pred)\n",
        "    get_roc (y_test,y_pred)\n",
        "    return\n",
        "\n",
        "# Random Forest\n",
        "# Choose clean data, as tree is robust\n",
        "randomforestclf(X_train_clean_res, y_train_clean_res,X_test_clean, y_test_clean)"
      ],
      "execution_count": null,
      "outputs": [
        {
          "output_type": "error",
          "ename": "NameError",
          "evalue": "ignored",
          "traceback": [
            "\u001b[0;31m---------------------------------------------------------------------------\u001b[0m",
            "\u001b[0;31mNameError\u001b[0m                                 Traceback (most recent call last)",
            "\u001b[0;32m<ipython-input-27-e4d87215fa5b>\u001b[0m in \u001b[0;36m<module>\u001b[0;34m()\u001b[0m\n\u001b[1;32m     17\u001b[0m \u001b[0;31m# Random Forest\u001b[0m\u001b[0;34m\u001b[0m\u001b[0;34m\u001b[0m\u001b[0;34m\u001b[0m\u001b[0m\n\u001b[1;32m     18\u001b[0m \u001b[0;31m# Choose clean data, as tree is robust\u001b[0m\u001b[0;34m\u001b[0m\u001b[0;34m\u001b[0m\u001b[0;34m\u001b[0m\u001b[0m\n\u001b[0;32m---> 19\u001b[0;31m \u001b[0mrandomforestclf\u001b[0m\u001b[0;34m(\u001b[0m\u001b[0mX_train_clean_res\u001b[0m\u001b[0;34m,\u001b[0m \u001b[0my_train_clean_res\u001b[0m\u001b[0;34m,\u001b[0m\u001b[0mX_test_clean\u001b[0m\u001b[0;34m,\u001b[0m \u001b[0my_test_clean\u001b[0m\u001b[0;34m)\u001b[0m\u001b[0;34m\u001b[0m\u001b[0;34m\u001b[0m\u001b[0m\n\u001b[0m",
            "\u001b[0;31mNameError\u001b[0m: name 'X_train_clean_res' is not defined"
          ]
        }
      ]
    },
    {
      "cell_type": "markdown",
      "metadata": {
        "_uuid": "75fb46bd9b0ac1493449c6451b2f8a85974d4f86",
        "id": "N7mjwLkNGxdu"
      },
      "source": [
        "### ExtraTreesClassifier (ROC_AUC:0.74)"
      ]
    },
    {
      "cell_type": "code",
      "metadata": {
        "_uuid": "28df42b00dedfda6ffcfb8235ff0ad2ef42a4bec",
        "collapsed": true,
        "jupyter": {
          "outputs_hidden": true
        },
        "trusted": true,
        "id": "Mhxtw8KgGxdu",
        "colab": {
          "base_uri": "https://localhost:8080/",
          "height": 198
        },
        "outputId": "1baf7f12-1ec2-40cb-da41-26a76d743a55"
      },
      "source": [
        "from sklearn.ensemble import ExtraTreesClassifier\n",
        "\n",
        "# fit, train and cross validate Decision Tree with training and test data \n",
        "def extratreesclf(X_train, y_train,X_test, y_test):\n",
        "    print(\"ExtraTreesClassifier\")\n",
        "    extratrees = ExtraTreesClassifier().fit(X_train, y_train)\n",
        "    print(extratrees,'\\n')\n",
        "    \n",
        "    # Predict target variables y for test data\n",
        "    y_pred = extratrees.predict_proba(X_test)[:,1]\n",
        "\n",
        "    # Get Cross Validation and Confusion matrix\n",
        "    #get_eval(extratrees, X_train, y_train,y_test,y_pred)\n",
        "    \n",
        "    get_roc (y_test,y_pred)\n",
        "    return\n",
        " \n",
        "# Extra Trees\n",
        "# Choose clean data, as tree is robust\n",
        "extratreesclf(X_train_clean_res, y_train_clean_res,X_test_clean, y_test_clean)"
      ],
      "execution_count": null,
      "outputs": [
        {
          "output_type": "error",
          "ename": "NameError",
          "evalue": "ignored",
          "traceback": [
            "\u001b[0;31m---------------------------------------------------------------------------\u001b[0m",
            "\u001b[0;31mNameError\u001b[0m                                 Traceback (most recent call last)",
            "\u001b[0;32m<ipython-input-28-6a90c8eca4ec>\u001b[0m in \u001b[0;36m<module>\u001b[0;34m()\u001b[0m\n\u001b[1;32m     18\u001b[0m \u001b[0;31m# Extra Trees\u001b[0m\u001b[0;34m\u001b[0m\u001b[0;34m\u001b[0m\u001b[0;34m\u001b[0m\u001b[0m\n\u001b[1;32m     19\u001b[0m \u001b[0;31m# Choose clean data, as tree is robust\u001b[0m\u001b[0;34m\u001b[0m\u001b[0;34m\u001b[0m\u001b[0;34m\u001b[0m\u001b[0m\n\u001b[0;32m---> 20\u001b[0;31m \u001b[0mextratreesclf\u001b[0m\u001b[0;34m(\u001b[0m\u001b[0mX_train_clean_res\u001b[0m\u001b[0;34m,\u001b[0m \u001b[0my_train_clean_res\u001b[0m\u001b[0;34m,\u001b[0m\u001b[0mX_test_clean\u001b[0m\u001b[0;34m,\u001b[0m \u001b[0my_test_clean\u001b[0m\u001b[0;34m)\u001b[0m\u001b[0;34m\u001b[0m\u001b[0;34m\u001b[0m\u001b[0m\n\u001b[0m",
            "\u001b[0;31mNameError\u001b[0m: name 'X_train_clean_res' is not defined"
          ]
        }
      ]
    },
    {
      "cell_type": "markdown",
      "metadata": {
        "_uuid": "d08be5c932aa326666c8865f5c1ce15f5f7984b4",
        "id": "YSL0QhpNGxdu"
      },
      "source": [
        "### DecisionTreeClassifier (ROC_AUC:0.64)"
      ]
    },
    {
      "cell_type": "code",
      "metadata": {
        "_uuid": "07c8334d26469b64ded21db507d7d246d0ba05f6",
        "collapsed": true,
        "jupyter": {
          "outputs_hidden": true
        },
        "trusted": true,
        "id": "VJDiPrycGxdu",
        "colab": {
          "base_uri": "https://localhost:8080/",
          "height": 198
        },
        "outputId": "cd6a7376-f90d-4608-f04c-32327df8ff2b"
      },
      "source": [
        "from sklearn.tree import DecisionTreeClassifier \n",
        "# fit, train and cross validate Decision Tree with training and test data \n",
        "def dectreeclf(X_train, y_train,X_test, y_test):\n",
        "    print(\"DecisionTreeClassifier\")\n",
        "    dec_tree = DecisionTreeClassifier(min_samples_split=10,min_samples_leaf=5).fit(X_train, y_train)\n",
        "    print(dec_tree,'\\n')\n",
        "    \n",
        "    # Predict target variables y for test data\n",
        "    y_pred = dec_tree.predict_proba(X_test)[:,1]\n",
        "\n",
        "    \n",
        "    # Get Cross Validation and Confusion matrix\n",
        "    #get_eval(dec_tree, X_train, y_train,y_test,y_pred)\n",
        "    get_roc (y_test,y_pred)\n",
        "    return\n",
        "\n",
        "# Decisiontree\n",
        "dectreeclf(X_train_clean_res, y_train_clean_res,X_test_clean, y_test_clean)"
      ],
      "execution_count": null,
      "outputs": [
        {
          "output_type": "error",
          "ename": "NameError",
          "evalue": "ignored",
          "traceback": [
            "\u001b[0;31m---------------------------------------------------------------------------\u001b[0m",
            "\u001b[0;31mNameError\u001b[0m                                 Traceback (most recent call last)",
            "\u001b[0;32m<ipython-input-29-1155d06fb10a>\u001b[0m in \u001b[0;36m<module>\u001b[0;34m()\u001b[0m\n\u001b[1;32m     16\u001b[0m \u001b[0;34m\u001b[0m\u001b[0m\n\u001b[1;32m     17\u001b[0m \u001b[0;31m# Decisiontree\u001b[0m\u001b[0;34m\u001b[0m\u001b[0;34m\u001b[0m\u001b[0;34m\u001b[0m\u001b[0m\n\u001b[0;32m---> 18\u001b[0;31m \u001b[0mdectreeclf\u001b[0m\u001b[0;34m(\u001b[0m\u001b[0mX_train_clean_res\u001b[0m\u001b[0;34m,\u001b[0m \u001b[0my_train_clean_res\u001b[0m\u001b[0;34m,\u001b[0m\u001b[0mX_test_clean\u001b[0m\u001b[0;34m,\u001b[0m \u001b[0my_test_clean\u001b[0m\u001b[0;34m)\u001b[0m\u001b[0;34m\u001b[0m\u001b[0;34m\u001b[0m\u001b[0m\n\u001b[0m",
            "\u001b[0;31mNameError\u001b[0m: name 'X_train_clean_res' is not defined"
          ]
        }
      ]
    },
    {
      "cell_type": "markdown",
      "metadata": {
        "id": "nA3tHbQDry_f",
        "_uuid": "4ed9e0b8545196403507dde0a878ba1a5f7cc604"
      },
      "source": [
        "### GradientBoostingClassifier (ROC_AUC:0.76)"
      ]
    },
    {
      "cell_type": "code",
      "metadata": {
        "id": "JjxG_CYtekIA",
        "_uuid": "72b88670afd0ba8487d1a3a98bbecde61427aa4f",
        "collapsed": true,
        "jupyter": {
          "outputs_hidden": true
        },
        "trusted": true,
        "colab": {
          "base_uri": "https://localhost:8080/",
          "height": 198
        },
        "outputId": "b80781a0-0c4c-41f9-a681-0f242b4b8fa6"
      },
      "source": [
        "from sklearn.ensemble import GradientBoostingClassifier\n",
        "\n",
        "# fit, train and cross validate GradientBoostingClassifier with training and test data \n",
        "def gradientboostingclf(X_train, y_train, X_test, y_test):  \n",
        "    print(\"GradientBoostingClassifier\")\n",
        "    gbclf = GradientBoostingClassifier().fit(X_train, y_train)\n",
        "    print(gbclf,'\\n')\n",
        "    \n",
        "    # Predict target variables y for test data\n",
        "    y_pred = gbclf.predict_proba(X_test)[:,1]\n",
        "\n",
        "    # Get Cross Validation and Confusion matrix\n",
        "    #get_eval(gbclf, X_train, y_train,y_test,y_pred)\n",
        "    get_roc (y_test,y_pred)\n",
        "    return\n",
        "  \n",
        "# GradientBoostingClassifier\n",
        "# Choose clean data, as tree is robust\n",
        "gradientboostingclf(X_train_clean_res, y_train_clean_res,X_test_clean, y_test_clean)"
      ],
      "execution_count": null,
      "outputs": [
        {
          "output_type": "error",
          "ename": "NameError",
          "evalue": "ignored",
          "traceback": [
            "\u001b[0;31m---------------------------------------------------------------------------\u001b[0m",
            "\u001b[0;31mNameError\u001b[0m                                 Traceback (most recent call last)",
            "\u001b[0;32m<ipython-input-30-ce286ad6d052>\u001b[0m in \u001b[0;36m<module>\u001b[0;34m()\u001b[0m\n\u001b[1;32m     17\u001b[0m \u001b[0;31m# GradientBoostingClassifier\u001b[0m\u001b[0;34m\u001b[0m\u001b[0;34m\u001b[0m\u001b[0;34m\u001b[0m\u001b[0m\n\u001b[1;32m     18\u001b[0m \u001b[0;31m# Choose clean data, as tree is robust\u001b[0m\u001b[0;34m\u001b[0m\u001b[0;34m\u001b[0m\u001b[0;34m\u001b[0m\u001b[0m\n\u001b[0;32m---> 19\u001b[0;31m \u001b[0mgradientboostingclf\u001b[0m\u001b[0;34m(\u001b[0m\u001b[0mX_train_clean_res\u001b[0m\u001b[0;34m,\u001b[0m \u001b[0my_train_clean_res\u001b[0m\u001b[0;34m,\u001b[0m\u001b[0mX_test_clean\u001b[0m\u001b[0;34m,\u001b[0m \u001b[0my_test_clean\u001b[0m\u001b[0;34m)\u001b[0m\u001b[0;34m\u001b[0m\u001b[0;34m\u001b[0m\u001b[0m\n\u001b[0m",
            "\u001b[0;31mNameError\u001b[0m: name 'X_train_clean_res' is not defined"
          ]
        }
      ]
    },
    {
      "cell_type": "markdown",
      "metadata": {
        "_uuid": "e2d254a8b7a76f3fcd3f98277a52989c5df7d0c2",
        "id": "86tkT41pGxdv"
      },
      "source": [
        "### AdaBoostClassifier (ROC_AUC:0.75)"
      ]
    },
    {
      "cell_type": "code",
      "metadata": {
        "id": "wdN9GgUUetH1",
        "_uuid": "c8caa356aa7993faa1bd77afafd858b7f95e18b8",
        "collapsed": true,
        "jupyter": {
          "outputs_hidden": true
        },
        "trusted": true,
        "colab": {
          "base_uri": "https://localhost:8080/",
          "height": 198
        },
        "outputId": "a3118521-f7c3-428c-d75e-5462ed45215a"
      },
      "source": [
        "from sklearn.ensemble import AdaBoostClassifier\n",
        "\n",
        "# fit, train and cross validate GradientBoostingClassifier with training and test data \n",
        "def adaboostclf(X_train, y_train, X_test, y_test):  \n",
        "    print(\"AdaBoostClassifier\")\n",
        "    abclf = AdaBoostClassifier().fit(X_train, y_train)\n",
        "    print(abclf,'\\n')\n",
        "    \n",
        "    # Predict target variables y for test data\n",
        "    y_pred = abclf.predict_proba(X_test)[:,1]\n",
        "\n",
        "    # Get Cross Validation and Confusion matrix\n",
        "    #get_eval(abclf, X_train, y_train,y_test,y_pred)\n",
        "    get_roc (y_test,y_pred)\n",
        "    return\n",
        "\n",
        "# AdaBoostClassifier\n",
        "# Choose clean data, as tree is robust\n",
        "adaboostclf(X_train_clean_res, y_train_clean_res,X_test_clean, y_test_clean)"
      ],
      "execution_count": null,
      "outputs": [
        {
          "output_type": "error",
          "ename": "NameError",
          "evalue": "ignored",
          "traceback": [
            "\u001b[0;31m---------------------------------------------------------------------------\u001b[0m",
            "\u001b[0;31mNameError\u001b[0m                                 Traceback (most recent call last)",
            "\u001b[0;32m<ipython-input-31-45d5c22d876a>\u001b[0m in \u001b[0;36m<module>\u001b[0;34m()\u001b[0m\n\u001b[1;32m     17\u001b[0m \u001b[0;31m# AdaBoostClassifier\u001b[0m\u001b[0;34m\u001b[0m\u001b[0;34m\u001b[0m\u001b[0;34m\u001b[0m\u001b[0m\n\u001b[1;32m     18\u001b[0m \u001b[0;31m# Choose clean data, as tree is robust\u001b[0m\u001b[0;34m\u001b[0m\u001b[0;34m\u001b[0m\u001b[0;34m\u001b[0m\u001b[0m\n\u001b[0;32m---> 19\u001b[0;31m \u001b[0madaboostclf\u001b[0m\u001b[0;34m(\u001b[0m\u001b[0mX_train_clean_res\u001b[0m\u001b[0;34m,\u001b[0m \u001b[0my_train_clean_res\u001b[0m\u001b[0;34m,\u001b[0m\u001b[0mX_test_clean\u001b[0m\u001b[0;34m,\u001b[0m \u001b[0my_test_clean\u001b[0m\u001b[0;34m)\u001b[0m\u001b[0;34m\u001b[0m\u001b[0;34m\u001b[0m\u001b[0m\n\u001b[0m",
            "\u001b[0;31mNameError\u001b[0m: name 'X_train_clean_res' is not defined"
          ]
        }
      ]
    },
    {
      "cell_type": "code",
      "metadata": {
        "id": "F2O3u1TjJtWG"
      },
      "source": [
        ""
      ],
      "execution_count": null,
      "outputs": []
    }
  ]
}